{
 "cells": [
  {
   "cell_type": "code",
   "execution_count": 1,
   "metadata": {},
   "outputs": [],
   "source": [
    "import pandas as pd"
   ]
  },
  {
   "cell_type": "code",
   "execution_count": 2,
   "metadata": {},
   "outputs": [
    {
     "name": "stdout",
     "output_type": "stream",
     "text": [
      "2022-01-01 00:00:00\n",
      "2022-01-05 00:00:00\n",
      "2022-01-09 00:00:00\n",
      "2022-01-13 00:00:00\n",
      "2022-01-17 00:00:00\n",
      "2022-01-21 00:00:00\n",
      "2022-01-25 00:00:00\n",
      "2022-01-29 00:00:00\n",
      "2022-02-02 00:00:00\n",
      "2022-02-06 00:00:00\n",
      "2022-02-10 00:00:00\n",
      "2022-02-14 00:00:00\n",
      "2022-02-18 00:00:00\n",
      "2022-02-22 00:00:00\n",
      "2022-02-26 00:00:00\n",
      "2022-03-02 00:00:00\n",
      "2022-03-06 00:00:00\n",
      "2022-03-10 00:00:00\n",
      "2022-03-14 00:00:00\n",
      "2022-03-18 00:00:00\n",
      "2022-03-22 00:00:00\n",
      "2022-03-26 00:00:00\n",
      "2022-03-30 00:00:00\n",
      "2022-04-03 00:00:00\n",
      "2022-04-07 00:00:00\n",
      "2022-04-11 00:00:00\n",
      "2022-04-15 00:00:00\n",
      "2022-04-19 00:00:00\n",
      "2022-04-23 00:00:00\n",
      "2022-04-27 00:00:00\n",
      "2022-05-01 00:00:00\n",
      "2022-05-05 00:00:00\n",
      "2022-05-09 00:00:00\n",
      "2022-05-13 00:00:00\n",
      "2022-05-17 00:00:00\n",
      "2022-05-21 00:00:00\n",
      "2022-05-25 00:00:00\n",
      "2022-05-29 00:00:00\n",
      "2022-06-02 00:00:00\n",
      "2022-06-06 00:00:00\n",
      "2022-06-10 00:00:00\n",
      "2022-06-14 00:00:00\n",
      "2022-06-18 00:00:00\n",
      "2022-06-22 00:00:00\n",
      "2022-06-26 00:00:00\n",
      "2022-06-30 00:00:00\n",
      "2022-07-04 00:00:00\n",
      "2022-07-08 00:00:00\n",
      "2022-07-12 00:00:00\n",
      "2022-07-16 00:00:00\n",
      "2022-07-20 00:00:00\n",
      "2022-07-24 00:00:00\n",
      "2022-07-28 00:00:00\n",
      "2022-08-01 00:00:00\n",
      "2022-08-05 00:00:00\n",
      "2022-08-09 00:00:00\n",
      "2022-08-13 00:00:00\n",
      "2022-08-17 00:00:00\n",
      "2022-08-21 00:00:00\n",
      "2022-08-25 00:00:00\n",
      "2022-08-29 00:00:00\n",
      "2022-09-02 00:00:00\n",
      "2022-09-06 00:00:00\n",
      "2022-09-10 00:00:00\n",
      "2022-09-14 00:00:00\n",
      "2022-09-18 00:00:00\n",
      "2022-09-22 00:00:00\n",
      "2022-09-26 00:00:00\n",
      "2022-09-30 00:00:00\n",
      "2022-10-04 00:00:00\n",
      "2022-10-08 00:00:00\n",
      "2022-10-12 00:00:00\n",
      "2022-10-16 00:00:00\n",
      "2022-10-20 00:00:00\n",
      "2022-10-24 00:00:00\n",
      "2022-10-28 00:00:00\n",
      "2022-11-01 00:00:00\n",
      "2022-11-05 00:00:00\n",
      "2022-11-09 00:00:00\n",
      "2022-11-13 00:00:00\n",
      "2022-11-17 00:00:00\n",
      "2022-11-21 00:00:00\n",
      "2022-11-25 00:00:00\n",
      "2022-11-29 00:00:00\n",
      "2022-12-03 00:00:00\n",
      "2022-12-07 00:00:00\n",
      "2022-12-11 00:00:00\n",
      "2022-12-15 00:00:00\n",
      "2022-12-19 00:00:00\n",
      "2022-12-23 00:00:00\n",
      "2022-12-27 00:00:00\n",
      "2022-12-31 00:00:00\n",
      "       Dataset                DocumentId  DocumentRevisionNumber  \\\n",
      "0         AGPT  NGET-EMFIP-AGPT-06399000                       1   \n",
      "1         AGPT  NGET-EMFIP-AGPT-06399000                       1   \n",
      "2         AGPT  NGET-EMFIP-AGPT-06399000                       1   \n",
      "3         AGPT  NGET-EMFIP-AGPT-06399000                       1   \n",
      "4         AGPT  NGET-EMFIP-AGPT-06399000                       1   \n",
      "...        ...                       ...                     ...   \n",
      "131423    AGPT  NGET-EMFIP-AGPT-06417647                       1   \n",
      "131424    AGPT  NGET-EMFIP-AGPT-06417647                       1   \n",
      "131425    AGPT  NGET-EMFIP-AGPT-06417647                       1   \n",
      "131426    AGPT  NGET-EMFIP-AGPT-06417647                       1   \n",
      "131427    AGPT  NGET-EMFIP-AGPT-06417647                       1   \n",
      "\n",
      "                 PublishTime      BusinessType  \\\n",
      "0       2022-01-03T23:59:09Z        Production   \n",
      "1       2022-01-03T23:59:09Z        Production   \n",
      "2       2022-01-03T23:59:09Z        Production   \n",
      "3       2022-01-03T23:59:09Z        Production   \n",
      "4       2022-01-03T23:59:09Z        Production   \n",
      "...                      ...               ...   \n",
      "131423  2022-12-31T00:29:09Z        Production   \n",
      "131424  2022-12-31T00:29:09Z        Production   \n",
      "131425  2022-12-31T00:29:09Z   Wind generation   \n",
      "131426  2022-12-31T00:29:09Z   Wind generation   \n",
      "131427  2022-12-31T00:29:09Z  Solar generation   \n",
      "\n",
      "                                PsrType  Quantity             StartTime  \\\n",
      "0                               Biomass  1666.000  2022-01-03T22:30:00Z   \n",
      "1                  Hydro Pumped Storage     0.000  2022-01-03T22:30:00Z   \n",
      "2       Hydro Run-of-river and poundage   724.000  2022-01-03T22:30:00Z   \n",
      "3                      Fossil Hard coal     0.000  2022-01-03T22:30:00Z   \n",
      "4                            Fossil Gas  5169.000  2022-01-03T22:30:00Z   \n",
      "...                                 ...       ...                   ...   \n",
      "131423                          Nuclear     0.000  2022-12-30T23:00:00Z   \n",
      "131424                            Other     0.000  2022-12-30T23:00:00Z   \n",
      "131425                     Wind Onshore  5479.511  2022-12-30T23:00:00Z   \n",
      "131426                    Wind Offshore  6831.167  2022-12-30T23:00:00Z   \n",
      "131427                            Solar     0.000  2022-12-30T23:00:00Z   \n",
      "\n",
      "       SettlementDate  SettlementPeriod  \n",
      "0          2022-01-03                46  \n",
      "1          2022-01-03                46  \n",
      "2          2022-01-03                46  \n",
      "3          2022-01-03                46  \n",
      "4          2022-01-03                46  \n",
      "...               ...               ...  \n",
      "131423     2022-12-30                47  \n",
      "131424     2022-12-30                47  \n",
      "131425     2022-12-30                47  \n",
      "131426     2022-12-30                47  \n",
      "131427     2022-12-30                47  \n",
      "\n",
      "[131428 rows x 10 columns]\n"
     ]
    }
   ],
   "source": [
    "import requests\n",
    "import pandas as pd\n",
    "from datetime import datetime, timedelta\n",
    "import io\n",
    "\n",
    "# Initialize an empty dataframe to store the results\n",
    "df_list = []\n",
    "\n",
    "# Loop through the entire year in 4-day increments\n",
    "start_date = datetime(2022, 1, 1)\n",
    "end_date = datetime(2023, 1, 2)\n",
    "\n",
    "while start_date <= end_date:\n",
    "    # Calculate the end date for the current 4-day period\n",
    "    current_end_date = start_date + timedelta(days=3)\n",
    "    if current_end_date > end_date:\n",
    "        current_end_date = end_date\n",
    "    \n",
    "    # Format the dates as strings\n",
    "    start_date_str = start_date.strftime('%Y-%m-%d')\n",
    "    current_end_date_str = current_end_date.strftime('%Y-%m-%d')\n",
    "    print(start_date)\n",
    "    \n",
    "    # Update the URL with the current date range\n",
    "    url = f'https://data.elexon.co.uk/bmrs/api/v1/datasets/AGPT?publishDateTimeFrom={start_date_str}&publishDateTimeTo={current_end_date_str}&format=csv'\n",
    "    \n",
    "    headers = {\n",
    "        'accept': 'text/plain',\n",
    "    }\n",
    "    # Make the API request\n",
    "    response = requests.get(url, headers=headers)\n",
    "    \n",
    "    # Read the response content into a dataframe\n",
    "    df = pd.read_csv(io.StringIO(response.text))\n",
    "    \n",
    "    # Append the dataframe to the list\n",
    "    df_list.append(df)\n",
    "    \n",
    "    # Move to the next 4-day period\n",
    "    start_date = current_end_date + timedelta(days=1)\n",
    "\n",
    "# Concatenate all the dataframes into a single dataframe\n",
    "final_df = pd.concat(df_list, ignore_index=True)\n",
    "\n",
    "# Print the final dataframe\n",
    "print(final_df)"
   ]
  },
  {
   "cell_type": "code",
   "execution_count": 3,
   "metadata": {},
   "outputs": [],
   "source": [
    "final_df['SettlementDate'] = pd.to_datetime(final_df['SettlementDate'])\n",
    "final_df['StartTime'] = pd.to_datetime(final_df['StartTime'])"
   ]
  },
  {
   "cell_type": "code",
   "execution_count": 4,
   "metadata": {},
   "outputs": [],
   "source": [
    "final_df.sort_values(by=['StartTime'],ascending=True, inplace=True)"
   ]
  },
  {
   "cell_type": "code",
   "execution_count": 5,
   "metadata": {},
   "outputs": [],
   "source": [
    "final_df=final_df.drop(columns=[\"Dataset\",\"DocumentId\",\"DocumentRevisionNumber\",\"PublishTime\",\"BusinessType\",\"SettlementDate\",\"SettlementPeriod\"])"
   ]
  },
  {
   "cell_type": "code",
   "execution_count": 10,
   "metadata": {},
   "outputs": [
    {
     "data": {
      "text/plain": [
       "<DatetimeArray>\n",
       "['2021-12-31 23:00:00+00:00', '2021-12-31 23:30:00+00:00',\n",
       " '2022-01-01 00:00:00+00:00', '2022-01-01 00:30:00+00:00',\n",
       " '2022-01-01 01:00:00+00:00', '2022-01-01 01:30:00+00:00',\n",
       " '2022-01-01 02:00:00+00:00', '2022-01-01 02:30:00+00:00',\n",
       " '2022-01-01 03:00:00+00:00', '2022-01-01 03:30:00+00:00',\n",
       " ...\n",
       " '2023-01-01 18:00:00+00:00', '2023-01-01 18:30:00+00:00',\n",
       " '2023-01-01 19:00:00+00:00', '2023-01-01 19:30:00+00:00',\n",
       " '2023-01-01 20:00:00+00:00', '2023-01-01 20:30:00+00:00',\n",
       " '2023-01-01 21:00:00+00:00', '2023-01-01 21:30:00+00:00',\n",
       " '2023-01-01 22:00:00+00:00', '2023-01-01 22:30:00+00:00']\n",
       "Length: 11369, dtype: datetime64[ns, UTC]"
      ]
     },
     "execution_count": 10,
     "metadata": {},
     "output_type": "execute_result"
    }
   ],
   "source": [
    "final_df[\"StartTime\"].unique()"
   ]
  },
  {
   "cell_type": "code",
   "execution_count": 16,
   "metadata": {},
   "outputs": [],
   "source": [
    "# Pivot the DataFrame\n",
    "pivot_df = final_df.pivot_table(index='StartTime', columns='PsrType', values='Quantity',aggfunc='first')"
   ]
  },
  {
   "cell_type": "code",
   "execution_count": 18,
   "metadata": {},
   "outputs": [],
   "source": [
    "pivot_df=pivot_df.resample('h').mean()"
   ]
  },
  {
   "cell_type": "code",
   "execution_count": 21,
   "metadata": {},
   "outputs": [
    {
     "data": {
      "text/plain": [
       "PsrType\n",
       "Biomass                            3082\n",
       "Fossil Gas                         3082\n",
       "Fossil Hard coal                   3082\n",
       "Fossil Oil                         3082\n",
       "Hydro Pumped Storage               3082\n",
       "Hydro Run-of-river and poundage    3082\n",
       "Nuclear                            3082\n",
       "Other                              3082\n",
       "Solar                              3082\n",
       "Wind Offshore                      3082\n",
       "Wind Onshore                       3082\n",
       "dtype: int64"
      ]
     },
     "execution_count": 21,
     "metadata": {},
     "output_type": "execute_result"
    }
   ],
   "source": [
    "pivot_df.isna().sum()"
   ]
  },
  {
   "cell_type": "code",
   "execution_count": null,
   "metadata": {},
   "outputs": [],
   "source": []
  }
 ],
 "metadata": {
  "kernelspec": {
   "display_name": "Python 3",
   "language": "python",
   "name": "python3"
  },
  "language_info": {
   "codemirror_mode": {
    "name": "ipython",
    "version": 3
   },
   "file_extension": ".py",
   "mimetype": "text/x-python",
   "name": "python",
   "nbconvert_exporter": "python",
   "pygments_lexer": "ipython3",
   "version": "3.11.2"
  }
 },
 "nbformat": 4,
 "nbformat_minor": 2
}
