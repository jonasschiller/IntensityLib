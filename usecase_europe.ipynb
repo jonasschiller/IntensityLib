{
 "cells": [
  {
   "cell_type": "code",
   "execution_count": 1,
   "id": "59e123ff-ed83-4705-b047-4d76a582f518",
   "metadata": {},
   "outputs": [],
   "source": [
    "import numpy as np\n",
    "import pandas as pd\n",
    "import cvxpy as cp\n",
    "\n",
    "import matplotlib\n",
    "import matplotlib.pyplot as plt\n",
    "import pickle\n",
    "from copy import deepcopy\n",
    "import helper.entsoe_wrapper as entsoe\n",
    "import helper.intensity as intensity"
   ]
  },
  {
   "cell_type": "code",
   "execution_count": 2,
   "id": "ea3a4190-9bd3-45b0-8199-8f1b0a7f5262",
   "metadata": {},
   "outputs": [],
   "source": [
    "from usecase.solve import offline_solver\n",
    "from usecase.dataloader import expand_gateway"
   ]
  },
  {
   "cell_type": "code",
   "execution_count": 3,
   "id": "02c1bc87",
   "metadata": {},
   "outputs": [],
   "source": [
    "start=pd.Timestamp('2022-01-01',tz='utc')\n",
    "end=pd.Timestamp('2022-12-31',tz='utc')"
   ]
  },
  {
   "cell_type": "markdown",
   "id": "d938ecba-e141-43b8-a5e5-8ef536608f12",
   "metadata": {
    "tags": []
   },
   "source": [
    "## 1. Loading Data"
   ]
  },
  {
   "cell_type": "code",
   "execution_count": 4,
   "id": "5127d365-f534-4db9-b718-78a197ba9fd4",
   "metadata": {},
   "outputs": [
    {
     "name": "stdout",
     "output_type": "stream",
     "text": [
      "DE\n",
      "IE\n",
      "PL\n",
      "ES\n",
      "AT\n",
      "BE\n",
      "NL\n",
      "FR\n",
      "IT\n",
      "SE\n"
     ]
    }
   ],
   "source": [
    "country_list   = [\"DE\",\"IE\", \"PL\", \"ES\", \"AT\", \"BE\", \"NL\", \"FR\", \"IT\", \"SE\"]\n",
    "price_all_loc  = []\n",
    "carbon_all_loc = []\n",
    "water_all_loc  = []\n",
    "\n",
    "for country in country_list:\n",
    "    print(country)\n",
    "    df             = entsoe.get_price_data(country, start, end)\n",
    "    price_array    = df.iloc[:457,0]\n",
    "    price_all_loc += [price_array]\n",
    "    \n",
    "    df              = intensity.get_average_intensity(country, start, end, water=False)\n",
    "    carbon_array    = df.to_numpy()[:457]\n",
    "    carbon_all_loc += [carbon_array]\n",
    "    \n",
    "    df             = intensity.get_complete_WUE(country, start, end)\n",
    "    water_array    = df.to_numpy()[:457]\n",
    "    water_all_loc += [water_array]    \n",
    "\n",
    "price_all_loc  = np.stack(price_all_loc,  axis=0)\n",
    "carbon_all_loc = np.stack(carbon_all_loc, axis=0)\n",
    "water_all_loc  = np.stack(water_all_loc,  axis=0)\n",
    "\n",
    "\n",
    "wkld_csv_file  = \"usecase/AI_workload.csv\"\n",
    "df             = pd.read_csv(wkld_csv_file)\n",
    "workload_trace = df[\"Power (Watt)\"].to_numpy()\n",
    "workload_trace = workload_trace/2708.0*10\n",
    "workload_trace = np.repeat(workload_trace.reshape([1,-1])/10, 10, axis=0)"
   ]
  },
  {
   "cell_type": "markdown",
   "id": "e179808d-281e-4e47-8bfc-2906b4778343",
   "metadata": {},
   "source": [
    "### 1.1 Preprocess Data"
   ]
  },
  {
   "cell_type": "code",
   "execution_count": 5,
   "id": "5673f35a-f4d4-46d5-996b-1b34340ce820",
   "metadata": {},
   "outputs": [
    {
     "name": "stdout",
     "output_type": "stream",
     "text": [
      "(100, 457)\n",
      "(100, 457)\n",
      "(100, 457)\n",
      "(10, 457)\n"
     ]
    }
   ],
   "source": [
    "si        = 0\n",
    "ei        = 457\n",
    "num_ins   = ei - si\n",
    "\n",
    "price_all_loc  = price_all_loc[:, si:ei]\n",
    "carbon_all_loc = carbon_all_loc[:, si:ei]\n",
    "water_all_loc  = water_all_loc[:, si:ei]\n",
    "workload_trace = workload_trace[:, si:ei]\n",
    "\n",
    "price_all_loc  = expand_gateway(price_all_loc)\n",
    "carbon_all_loc = expand_gateway(carbon_all_loc)\n",
    "water_all_loc  = expand_gateway(water_all_loc)\n",
    "\n",
    "print(price_all_loc.shape)\n",
    "print(carbon_all_loc.shape)\n",
    "print(water_all_loc.shape)\n",
    "print(workload_trace.shape)\n",
    "\n",
    "mask         = np.ones([10,10])\n",
    "mask_array   = np.repeat(mask.reshape([-1,1]), num_ins , axis=1)"
   ]
  },
  {
   "cell_type": "markdown",
   "id": "c0b50f15-2b98-43ff-bb4a-d4d1c77c0e2c",
   "metadata": {
    "tags": []
   },
   "source": [
    "## 2. Start Experiment"
   ]
  },
  {
   "cell_type": "code",
   "execution_count": 6,
   "id": "93c95ea7-d819-4ce4-9121-b32682aaa1f0",
   "metadata": {},
   "outputs": [],
   "source": [
    "l_1 = 60       # mu_water for the water consumption weight\n",
    "l_2 = 1500     # mu_carbon for carbon emission weight"
   ]
  },
  {
   "cell_type": "markdown",
   "id": "ec5f3ed2-e549-49e9-ad53-8706c6e38ae6",
   "metadata": {
    "tags": []
   },
   "source": [
    "### 2.2 Equitable (Ours)"
   ]
  },
  {
   "cell_type": "code",
   "execution_count": 8,
   "id": "fbd91642-ba5f-4ce0-82a5-423ca4fedfcd",
   "metadata": {
    "tags": []
   },
   "outputs": [
    {
     "name": "stdout",
     "output_type": "stream",
     "text": [
      "Start Solving...\n",
      "===============================================================================\n",
      "                                     CVXPY                                     \n",
      "                                     v1.6.0                                    \n",
      "===============================================================================\n",
      "(CVXPY) Jan 14 03:42:12 PM: Your problem has 45700 variables, 54840 constraints, and 0 parameters.\n",
      "(CVXPY) Jan 14 03:42:13 PM: It is compliant with the following grammars: DCP, DQCP\n",
      "(CVXPY) Jan 14 03:42:13 PM: (If you need to solve this problem multiple times, but with different data, consider using parameters.)\n",
      "(CVXPY) Jan 14 03:42:13 PM: CVXPY will first compile your problem; then, it will invoke a numerical solver to obtain a solution.\n",
      "(CVXPY) Jan 14 03:42:13 PM: Your problem is compiled with the CPP canonicalization backend.\n",
      "-------------------------------------------------------------------------------\n",
      "                                  Compilation                                  \n",
      "-------------------------------------------------------------------------------\n",
      "(CVXPY) Jan 14 03:42:15 PM: Compiling problem (target solver=CLARABEL).\n",
      "(CVXPY) Jan 14 03:42:15 PM: Reduction chain: Dcp2Cone -> CvxAttr2Constr -> ConeMatrixStuffing -> CLARABEL\n",
      "(CVXPY) Jan 14 03:42:15 PM: Applying reduction Dcp2Cone\n",
      "(CVXPY) Jan 14 03:42:17 PM: Applying reduction CvxAttr2Constr\n",
      "(CVXPY) Jan 14 03:42:17 PM: Applying reduction ConeMatrixStuffing\n",
      "(CVXPY) Jan 14 03:44:28 PM: Applying reduction CLARABEL\n",
      "(CVXPY) Jan 14 03:44:30 PM: Finished problem compilation (took 1.371e+02 seconds).\n",
      "-------------------------------------------------------------------------------\n",
      "                                Numerical solver                               \n",
      "-------------------------------------------------------------------------------\n",
      "(CVXPY) Jan 14 03:44:30 PM: Invoking solver CLARABEL  to obtain a solution.\n",
      "-------------------------------------------------------------\n",
      "           Clarabel.rs v0.9.0  -  Clever Acronym                \n",
      "\n",
      "                   (c) Paul Goulart                          \n",
      "                University of Oxford, 2022                   \n",
      "-------------------------------------------------------------\n",
      "\n",
      "problem:\n",
      "  variables     = 45702\n",
      "  constraints   = 54880\n",
      "  nnz(P)        = 0\n",
      "  nnz(A)        = 319940\n",
      "  cones (total) = 2\n",
      "    :        Zero = 1,  numel = 4570\n",
      "    : Nonnegative = 1,  numel = 50310\n",
      "\n",
      "settings:\n",
      "  linear algebra: direct / qdldl, precision: 64 bit\n",
      "  max iter = 200, time limit = Inf,  max step = 0.990\n",
      "  tol_feas = 1.0e-8, tol_gap_abs = 1.0e-8, tol_gap_rel = 1.0e-8,\n",
      "  static reg : on, ϵ1 = 1.0e-8, ϵ2 = 4.9e-32\n",
      "  dynamic reg: on, ϵ = 1.0e-13, δ = 2.0e-7\n",
      "  iter refine: on, reltol = 1.0e-13, abstol = 1.0e-12,\n",
      "               max iter = 10, stop ratio = 5.0\n",
      "  equilibrate: on, min_scale = 1.0e-4, max_scale = 1.0e4\n",
      "               max iter = 10\n",
      "\n",
      "iter    pcost        dcost       gap       pres      dres      k/t        μ       step      \n",
      "---------------------------------------------------------------------------------------------\n",
      "  0  +1.8060e+05  -1.0131e+06  6.61e+00  8.44e-01  3.06e-02  1.00e+00  5.66e+03   ------   \n",
      "  1  -4.8898e+04  -1.0193e+06  1.98e+01  7.83e-01  2.31e-02  4.54e+03  3.10e+03  9.90e-01  \n",
      "  2  +5.3440e+04  -5.6677e+05  1.16e+01  6.49e-01  1.79e-02  3.75e+03  2.52e+03  3.20e-01  \n",
      "  3  +1.9315e+05  -2.1590e+05  2.12e+00  4.76e-01  1.16e-02  3.08e+03  1.76e+03  3.84e-01  \n",
      "  4  +2.9393e+05  -9.9696e+04  3.95e+00  4.12e-01  8.87e-03  3.99e+03  1.22e+03  6.12e-01  \n",
      "  5  +3.3136e+05  -4.1211e+04  9.04e+00  3.70e-01  6.55e-03  4.64e+03  8.30e+02  5.08e-01  \n",
      "  6  +3.5207e+05  +6.1195e+03  5.65e+01  3.14e-01  4.89e-03  4.95e+03  5.82e+02  4.74e-01  \n",
      "  7  +4.2561e+05  +1.2526e+05  2.40e+00  2.26e-01  3.24e-03  5.22e+03  3.69e+02  5.32e-01  \n",
      "  8  +3.3178e+05  +1.2085e+05  1.75e+00  1.60e-01  2.37e-03  2.73e+03  2.61e+02  9.89e-01  \n",
      "  9  +6.0231e+05  +4.0498e+05  4.87e-01  1.14e-01  1.12e-03  5.20e+03  1.15e+02  5.80e-01  \n",
      " 10  +1.0977e+06  +9.2340e+05  1.89e-01  1.11e-01  1.05e-03  4.09e+03  1.14e+02  6.66e-02  \n",
      " 11  +1.9897e+06  +1.8508e+06  7.50e-02  9.28e-02  8.43e-04  2.87e+03  9.96e+01  2.22e-01  \n",
      " 12  +1.7225e+06  +1.5741e+06  9.43e-02  8.35e-02  8.55e-04  3.50e+03  9.73e+01  1.74e-01  \n",
      " 13  +4.1129e+06  +4.0378e+06  1.86e-02  2.51e-02  3.53e-04  1.62e+03  4.97e+01  8.12e-01  \n",
      " 14  +6.0551e+06  +6.0017e+06  8.90e-03  1.18e-02  1.89e-04  1.47e+03  2.88e+01  5.26e-01  \n",
      " 15  +4.8225e+06  +4.7499e+06  1.53e-02  2.08e-02  2.08e-04  3.13e+03  2.39e+01  3.66e-01  \n",
      " 16  +5.1700e+06  +5.0951e+06  1.47e-02  2.06e-02  1.19e-04  6.70e+03  1.17e+01  5.53e-01  \n",
      " 17  +8.1057e+06  +8.0406e+06  8.10e-03  1.72e-02  1.07e-04  5.03e+03  1.17e+01  4.40e-02  \n",
      " 18  +1.6227e+07  +1.6189e+07  2.39e-03  7.36e-03  4.56e-05  3.85e+03  5.82e+00  6.08e-01  \n",
      " 19  +2.7418e+07  +2.7401e+07  6.07e-04  1.97e-03  1.69e-05  9.81e+02  3.43e+00  5.52e-01  \n",
      " 20  +3.1552e+07  +3.1541e+07  3.71e-04  1.22e-03  1.07e-05  7.64e+02  2.63e+00  3.24e-01  \n",
      " 21  +3.0737e+07  +3.0723e+07  4.29e-04  1.43e-03  1.10e-05  1.11e+03  2.47e+00  1.77e-01  \n",
      " 22  +3.0618e+07  +3.0605e+07  4.45e-04  1.51e-03  1.04e-05  1.36e+03  2.21e+00  1.61e-01  \n",
      " 23  +3.6020e+07  +3.6011e+07  2.57e-04  8.40e-04  7.48e-06  4.02e+02  2.21e+00  2.04e-02  \n",
      " 24  +3.6004e+07  +3.5995e+07  2.60e-04  8.54e-04  7.53e-06  4.33e+02  2.20e+00  3.19e-02  \n",
      " 25  +3.8275e+07  +3.8267e+07  2.08e-04  6.94e-04  5.70e-06  4.92e+02  1.72e+00  3.25e-01  \n",
      " 26  +4.3644e+07  +4.3640e+07  9.75e-05  3.32e-04  2.57e-06  3.37e+02  9.25e-01  5.88e-01  \n",
      " 27  +4.6170e+07  +4.6168e+07  5.25e-05  1.81e-04  1.42e-06  2.24e+02  6.09e-01  4.72e-01  \n",
      " 28  +4.7650e+07  +4.7649e+07  2.89e-05  1.01e-04  7.99e-07  1.50e+02  3.86e-01  6.07e-01  \n",
      " 29  +4.7740e+07  +4.7739e+07  2.67e-05  9.39e-05  7.38e-07  1.43e+02  3.60e-01  2.47e-01  \n",
      " 30  +4.8887e+07  +4.8887e+07  1.31e-05  4.63e-05  3.65e-07  7.34e+01  1.97e-01  5.80e-01  \n",
      " 31  +4.9352e+07  +4.9351e+07  7.86e-06  2.76e-05  2.18e-07  4.32e+01  1.23e-01  5.61e-01  \n",
      " 32  +4.9713e+07  +4.9713e+07  4.30e-06  1.51e-05  1.19e-07  2.33e+01  7.01e-02  5.14e-01  \n",
      " 33  +4.9844e+07  +4.9844e+07  3.02e-06  1.06e-05  8.33e-08  1.59e+01  4.98e-02  4.03e-01  \n",
      " 34  +4.9975e+07  +4.9975e+07  1.80e-06  6.29e-06  4.95e-08  9.14e+00  3.01e-02  5.20e-01  \n",
      " 35  +5.0044e+07  +5.0044e+07  1.18e-06  4.11e-06  3.24e-08  5.81e+00  1.99e-02  4.53e-01  \n",
      " 36  +5.0120e+07  +5.0120e+07  5.26e-07  1.82e-06  1.43e-08  2.44e+00  8.90e-03  6.93e-01  \n",
      " 37  +5.0164e+07  +5.0164e+07  1.58e-07  5.38e-07  4.23e-09  6.31e-01  2.65e-03  9.90e-01  \n",
      " 38  +5.0173e+07  +5.0173e+07  8.65e-08  2.95e-07  2.32e-09  3.44e-01  1.46e-03  6.64e-01  \n",
      " 39  +5.0177e+07  +5.0177e+07  6.29e-08  2.15e-07  1.69e-09  2.49e-01  1.06e-03  4.37e-01  \n",
      " 40  +5.0183e+07  +5.0183e+07  1.39e-08  4.74e-08  3.72e-10  5.47e-02  2.34e-04  8.76e-01  \n",
      " 41  +5.0184e+07  +5.0184e+07  8.29e-09  2.83e-08  2.22e-10  3.26e-02  1.40e-04  4.97e-01  \n",
      " 42  +5.0185e+07  +5.0185e+07  1.39e-09  4.75e-09  3.73e-11  5.44e-03  2.34e-05  9.90e-01  \n",
      "---------------------------------------------------------------------------------------------\n",
      "Terminated with status = Solved\n",
      "solve time = 2.9450217s\n",
      "-------------------------------------------------------------------------------\n",
      "                                    Summary                                    \n",
      "-------------------------------------------------------------------------------\n",
      "(CVXPY) Jan 14 03:44:34 PM: Problem status: optimal\n",
      "(CVXPY) Jan 14 03:44:34 PM: Optimal value: 5.018e+07\n",
      "(CVXPY) Jan 14 03:44:34 PM: Compilation took 1.371e+02 seconds\n",
      "(CVXPY) Jan 14 03:44:34 PM: Solver (including time spent in interface) took 2.998e+00 seconds\n",
      "All Connection:  50184538.18561104\n",
      "50184538.18561104\n",
      "(100, 457)\n"
     ]
    }
   ],
   "source": [
    "optimal_cost, action_mask  = offline_solver(price_all_loc, water_all_loc, carbon_all_loc, workload_trace, mask_array, num_ins, verbose=True, l_1 = l_1, l_2 = l_2, f_type = \"MAX\")\n",
    "print(\"All Connection: \", optimal_cost)\n",
    "\n",
    "data_dict_eq = {\"Name\": \"Equitable\",\n",
    "                \"Total_Cost\": optimal_cost,\n",
    "                \"Action\": action_mask}\n",
    "print(optimal_cost)\n",
    "print(action_mask.shape)"
   ]
  },
  {
   "cell_type": "code",
   "execution_count": 9,
   "id": "473d9ef9-e65b-451a-8965-31f3c387651e",
   "metadata": {},
   "outputs": [],
   "source": [
    "with open('output/result_equitable.pkl', 'wb') as handle:\n",
    "    pickle.dump(data_dict_eq, handle, protocol=pickle.HIGHEST_PROTOCOL)"
   ]
  },
  {
   "cell_type": "markdown",
   "id": "3ca875ac-3789-421f-9b4c-5e948d1ae8e9",
   "metadata": {
    "tags": []
   },
   "source": [
    "### 2.3 Min Price"
   ]
  },
  {
   "cell_type": "code",
   "execution_count": 10,
   "id": "b9b2d737-6cd7-49e1-bac9-15ecc216d1af",
   "metadata": {},
   "outputs": [
    {
     "name": "stdout",
     "output_type": "stream",
     "text": [
      "Start Solving...\n",
      "===============================================================================\n",
      "                                     CVXPY                                     \n",
      "                                    v1.1.18                                    \n",
      "===============================================================================\n",
      "(CVXPY) Jun 26 06:45:20 PM: Your problem has 45700 variables, 54840 constraints, and 0 parameters.\n",
      "(CVXPY) Jun 26 06:45:21 PM: It is compliant with the following grammars: DCP, DQCP\n",
      "(CVXPY) Jun 26 06:45:21 PM: (If you need to solve this problem multiple times, but with different data, consider using parameters.)\n",
      "(CVXPY) Jun 26 06:45:21 PM: CVXPY will first compile your problem; then, it will invoke a numerical solver to obtain a solution.\n",
      "-------------------------------------------------------------------------------\n",
      "                                  Compilation                                  \n",
      "-------------------------------------------------------------------------------\n",
      "(CVXPY) Jun 26 06:45:23 PM: Compiling problem (target solver=ECOS).\n",
      "(CVXPY) Jun 26 06:45:23 PM: Reduction chain: Dcp2Cone -> CvxAttr2Constr -> ConeMatrixStuffing -> ECOS\n",
      "(CVXPY) Jun 26 06:45:23 PM: Applying reduction Dcp2Cone\n",
      "(CVXPY) Jun 26 06:45:26 PM: Applying reduction CvxAttr2Constr\n",
      "(CVXPY) Jun 26 06:45:26 PM: Applying reduction ConeMatrixStuffing\n",
      "(CVXPY) Jun 26 06:46:40 PM: Applying reduction ECOS\n",
      "(CVXPY) Jun 26 06:46:52 PM: Finished problem compilation (took 9.123e+01 seconds).\n",
      "-------------------------------------------------------------------------------\n",
      "                                Numerical solver                               \n",
      "-------------------------------------------------------------------------------\n",
      "(CVXPY) Jun 26 06:46:52 PM: Invoking solver ECOS  to obtain a solution.\n",
      "-------------------------------------------------------------------------------\n",
      "                                    Summary                                    \n",
      "-------------------------------------------------------------------------------\n",
      "(CVXPY) Jun 26 06:46:53 PM: Problem status: optimal\n",
      "(CVXPY) Jun 26 06:46:53 PM: Optimal value: 2.917e+05\n",
      "(CVXPY) Jun 26 06:46:53 PM: Compilation took 9.123e+01 seconds\n",
      "(CVXPY) Jun 26 06:46:53 PM: Solver (including time spent in interface) took 2.622e-01 seconds\n",
      "All Connection:  291698.606287178\n",
      "291698.606287178\n",
      "(100, 457)\n"
     ]
    }
   ],
   "source": [
    "optimal_cost, action_mask  = offline_solver(price_all_loc, water_all_loc, carbon_all_loc, workload_trace, mask_array, num_ins, verbose=True, l_1 = 0, l_2 = 0, f_type = \"AVG\")\n",
    "print(\"All Connection: \", optimal_cost)\n",
    "\n",
    "data_dict_mp = {\"Name\": \"Min Price\",\n",
    "                \"Total_Cost\": optimal_cost,\n",
    "                \"Action\": action_mask}\n",
    "print(optimal_cost)\n",
    "print(action_mask.shape)"
   ]
  },
  {
   "cell_type": "code",
   "execution_count": 11,
   "id": "591dd422-e8b7-4bdb-8203-5297a0271997",
   "metadata": {},
   "outputs": [],
   "source": [
    "with open('output/result_min_price.pkl', 'wb') as handle:\n",
    "    pickle.dump(data_dict_mp, handle, protocol=pickle.HIGHEST_PROTOCOL)"
   ]
  },
  {
   "cell_type": "markdown",
   "id": "0b7dc4ea-8b6d-4cd7-894b-bd6218f2aac0",
   "metadata": {
    "tags": []
   },
   "source": [
    "### 2.4 Price plus Carbon"
   ]
  },
  {
   "cell_type": "code",
   "execution_count": 12,
   "id": "d3edd02b-0b14-4a7b-900e-f05084677ebe",
   "metadata": {
    "tags": []
   },
   "outputs": [
    {
     "name": "stdout",
     "output_type": "stream",
     "text": [
      "Start Solving...\n",
      "===============================================================================\n",
      "                                     CVXPY                                     \n",
      "                                    v1.1.18                                    \n",
      "===============================================================================\n",
      "(CVXPY) Jun 26 06:46:59 PM: Your problem has 45700 variables, 54840 constraints, and 0 parameters.\n",
      "(CVXPY) Jun 26 06:47:00 PM: It is compliant with the following grammars: DCP, DQCP\n",
      "(CVXPY) Jun 26 06:47:00 PM: (If you need to solve this problem multiple times, but with different data, consider using parameters.)\n",
      "(CVXPY) Jun 26 06:47:00 PM: CVXPY will first compile your problem; then, it will invoke a numerical solver to obtain a solution.\n",
      "-------------------------------------------------------------------------------\n",
      "                                  Compilation                                  \n",
      "-------------------------------------------------------------------------------\n",
      "(CVXPY) Jun 26 06:47:02 PM: Compiling problem (target solver=ECOS).\n",
      "(CVXPY) Jun 26 06:47:02 PM: Reduction chain: Dcp2Cone -> CvxAttr2Constr -> ConeMatrixStuffing -> ECOS\n",
      "(CVXPY) Jun 26 06:47:02 PM: Applying reduction Dcp2Cone\n",
      "(CVXPY) Jun 26 06:47:05 PM: Applying reduction CvxAttr2Constr\n",
      "(CVXPY) Jun 26 06:47:05 PM: Applying reduction ConeMatrixStuffing\n",
      "(CVXPY) Jun 26 06:48:19 PM: Applying reduction ECOS\n",
      "(CVXPY) Jun 26 06:48:32 PM: Finished problem compilation (took 9.226e+01 seconds).\n",
      "-------------------------------------------------------------------------------\n",
      "                                Numerical solver                               \n",
      "-------------------------------------------------------------------------------\n",
      "(CVXPY) Jun 26 06:48:32 PM: Invoking solver ECOS  to obtain a solution.\n",
      "-------------------------------------------------------------------------------\n",
      "                                    Summary                                    \n",
      "-------------------------------------------------------------------------------\n",
      "(CVXPY) Jun 26 06:48:34 PM: Problem status: optimal\n",
      "(CVXPY) Jun 26 06:48:34 PM: Optimal value: 9.140e+05\n",
      "(CVXPY) Jun 26 06:48:34 PM: Compilation took 9.226e+01 seconds\n",
      "(CVXPY) Jun 26 06:48:34 PM: Solver (including time spent in interface) took 2.533e-01 seconds\n",
      "All Connection:  914038.1375558949\n",
      "914038.1375558949\n",
      "(100, 457)\n"
     ]
    }
   ],
   "source": [
    "# Minimize the average price and carbon\n",
    "optimal_cost, action_mask  = offline_solver(price_all_loc, water_all_loc, carbon_all_loc, workload_trace, mask_array, num_ins, verbose=True, l_1 = 0, l_2 = l_2*4, f_type = \"AVG\")\n",
    "print(\"All Connection: \", optimal_cost)\n",
    "\n",
    "data_dict_pc = {\"Name\": \"Price and Carbon\",\n",
    "                \"Total_Cost\": optimal_cost,\n",
    "                \"Action\": action_mask}\n",
    "print(optimal_cost)\n",
    "print(action_mask.shape)"
   ]
  },
  {
   "cell_type": "code",
   "execution_count": 13,
   "id": "0142e1ed-eb81-49d4-8582-60349701da24",
   "metadata": {},
   "outputs": [],
   "source": [
    "with open('output/result_price_carbon.pkl', 'wb') as handle:\n",
    "    pickle.dump(data_dict_pc, handle, protocol=pickle.HIGHEST_PROTOCOL)"
   ]
  },
  {
   "cell_type": "markdown",
   "id": "1ca4be22-79f2-47f4-8a60-73a0a59bfaac",
   "metadata": {
    "tags": []
   },
   "source": [
    "### 2.5 Total Cost Minimize"
   ]
  },
  {
   "cell_type": "code",
   "execution_count": 14,
   "id": "9a6e62a1-d065-4d08-b52a-59a649229a4a",
   "metadata": {},
   "outputs": [
    {
     "name": "stdout",
     "output_type": "stream",
     "text": [
      "Start Solving...\n",
      "===============================================================================\n",
      "                                     CVXPY                                     \n",
      "                                    v1.1.18                                    \n",
      "===============================================================================\n",
      "(CVXPY) Jun 26 06:48:39 PM: Your problem has 45700 variables, 54840 constraints, and 0 parameters.\n",
      "(CVXPY) Jun 26 06:48:40 PM: It is compliant with the following grammars: DCP, DQCP\n",
      "(CVXPY) Jun 26 06:48:40 PM: (If you need to solve this problem multiple times, but with different data, consider using parameters.)\n",
      "(CVXPY) Jun 26 06:48:40 PM: CVXPY will first compile your problem; then, it will invoke a numerical solver to obtain a solution.\n",
      "-------------------------------------------------------------------------------\n",
      "                                  Compilation                                  \n",
      "-------------------------------------------------------------------------------\n",
      "(CVXPY) Jun 26 06:48:42 PM: Compiling problem (target solver=ECOS).\n",
      "(CVXPY) Jun 26 06:48:42 PM: Reduction chain: Dcp2Cone -> CvxAttr2Constr -> ConeMatrixStuffing -> ECOS\n",
      "(CVXPY) Jun 26 06:48:42 PM: Applying reduction Dcp2Cone\n",
      "(CVXPY) Jun 26 06:48:45 PM: Applying reduction CvxAttr2Constr\n",
      "(CVXPY) Jun 26 06:48:45 PM: Applying reduction ConeMatrixStuffing\n",
      "(CVXPY) Jun 26 06:49:59 PM: Applying reduction ECOS\n",
      "(CVXPY) Jun 26 06:50:13 PM: Finished problem compilation (took 9.281e+01 seconds).\n",
      "-------------------------------------------------------------------------------\n",
      "                                Numerical solver                               \n",
      "-------------------------------------------------------------------------------\n",
      "(CVXPY) Jun 26 06:50:13 PM: Invoking solver ECOS  to obtain a solution.\n",
      "-------------------------------------------------------------------------------\n",
      "                                    Summary                                    \n",
      "-------------------------------------------------------------------------------\n",
      "(CVXPY) Jun 26 06:50:14 PM: Problem status: optimal\n",
      "(CVXPY) Jun 26 06:50:14 PM: Optimal value: 1.047e+06\n",
      "(CVXPY) Jun 26 06:50:14 PM: Compilation took 9.281e+01 seconds\n",
      "(CVXPY) Jun 26 06:50:14 PM: Solver (including time spent in interface) took 2.512e-01 seconds\n",
      "All Connection:  1046974.2126152215\n",
      "1046974.2126152215\n",
      "(100, 457)\n"
     ]
    }
   ],
   "source": [
    "# Minimize the average of total cost (price + water + carbon)\n",
    "optimal_cost, action_mask  = offline_solver(price_all_loc, water_all_loc, carbon_all_loc, workload_trace, mask_array, num_ins, verbose=True, l_1 = l_1*5, l_2 = l_2*2, f_type = \"AVG\")\n",
    "print(\"All Connection: \", optimal_cost)\n",
    "\n",
    "data_dict_tc = {\"Name\": \"Total Cost\",\n",
    "                \"Total_Cost\": deepcopy(optimal_cost),\n",
    "                \"Action\": action_mask}\n",
    "print(optimal_cost)\n",
    "print(action_mask.shape)"
   ]
  },
  {
   "cell_type": "code",
   "execution_count": 15,
   "id": "33ce339d-2ae9-4611-817d-1cd3633d90dc",
   "metadata": {},
   "outputs": [],
   "source": [
    "with open('output/result_total_cost.pkl', 'wb') as handle:\n",
    "    pickle.dump(data_dict_tc, handle, protocol=pickle.HIGHEST_PROTOCOL)"
   ]
  },
  {
   "cell_type": "markdown",
   "id": "6080c88f-f27b-4996-b035-471e26b21c6b",
   "metadata": {
    "tags": []
   },
   "source": [
    "### 2.6 Pure Water"
   ]
  },
  {
   "cell_type": "code",
   "execution_count": 16,
   "id": "c03602da-899e-48bb-9444-13f762d675a2",
   "metadata": {},
   "outputs": [
    {
     "name": "stdout",
     "output_type": "stream",
     "text": [
      "Start Solving...\n",
      "===============================================================================\n",
      "                                     CVXPY                                     \n",
      "                                    v1.1.18                                    \n",
      "===============================================================================\n",
      "(CVXPY) Jun 26 06:50:19 PM: Your problem has 45700 variables, 54840 constraints, and 0 parameters.\n",
      "(CVXPY) Jun 26 06:50:21 PM: It is compliant with the following grammars: DCP, DQCP\n",
      "(CVXPY) Jun 26 06:50:21 PM: (If you need to solve this problem multiple times, but with different data, consider using parameters.)\n",
      "(CVXPY) Jun 26 06:50:21 PM: CVXPY will first compile your problem; then, it will invoke a numerical solver to obtain a solution.\n",
      "-------------------------------------------------------------------------------\n",
      "                                  Compilation                                  \n",
      "-------------------------------------------------------------------------------\n",
      "(CVXPY) Jun 26 06:50:22 PM: Compiling problem (target solver=ECOS).\n",
      "(CVXPY) Jun 26 06:50:22 PM: Reduction chain: Dcp2Cone -> CvxAttr2Constr -> ConeMatrixStuffing -> ECOS\n",
      "(CVXPY) Jun 26 06:50:22 PM: Applying reduction Dcp2Cone\n",
      "(CVXPY) Jun 26 06:50:26 PM: Applying reduction CvxAttr2Constr\n",
      "(CVXPY) Jun 26 06:50:26 PM: Applying reduction ConeMatrixStuffing\n",
      "(CVXPY) Jun 26 06:51:40 PM: Applying reduction ECOS\n",
      "(CVXPY) Jun 26 06:51:53 PM: Finished problem compilation (took 9.241e+01 seconds).\n",
      "-------------------------------------------------------------------------------\n",
      "                                Numerical solver                               \n",
      "-------------------------------------------------------------------------------\n",
      "(CVXPY) Jun 26 06:51:53 PM: Invoking solver ECOS  to obtain a solution.\n",
      "-------------------------------------------------------------------------------\n",
      "                                    Summary                                    \n",
      "-------------------------------------------------------------------------------\n",
      "(CVXPY) Jun 26 06:51:54 PM: Problem status: optimal\n",
      "(CVXPY) Jun 26 06:51:54 PM: Optimal value: 7.463e+04\n",
      "(CVXPY) Jun 26 06:51:54 PM: Compilation took 9.241e+01 seconds\n",
      "(CVXPY) Jun 26 06:51:54 PM: Solver (including time spent in interface) took 2.120e-01 seconds\n",
      "All Connection:  74634.83688514176\n",
      "74634.83688514176\n",
      "(100, 457)\n"
     ]
    }
   ],
   "source": [
    "# Only minimize the water consumption\n",
    "optimal_cost, action_mask  = offline_solver(price_all_loc, water_all_loc, carbon_all_loc, workload_trace, mask_array, num_ins, verbose=True, l_0 = 0, l_1 = l_1, l_2 = 0, f_type = \"AVG\")\n",
    "print(\"All Connection: \", optimal_cost)\n",
    "\n",
    "data_dict_pw = {\"Name\": \"Pure Water\",\n",
    "                \"Total_Cost\": optimal_cost,\n",
    "                \"Action\": action_mask}\n",
    "print(optimal_cost)\n",
    "print(action_mask.shape)"
   ]
  },
  {
   "cell_type": "code",
   "execution_count": 17,
   "id": "568add6c-fdc9-4582-9cbd-0b4f954f2165",
   "metadata": {},
   "outputs": [],
   "source": [
    "with open('output/result_pure_water.pkl', 'wb') as handle:\n",
    "    pickle.dump(data_dict_pw, handle, protocol=pickle.HIGHEST_PROTOCOL)"
   ]
  },
  {
   "cell_type": "markdown",
   "id": "5c116286-cd87-492a-992e-88263690c608",
   "metadata": {
    "tags": []
   },
   "source": [
    "### 2.7 Pure Carbon"
   ]
  },
  {
   "cell_type": "code",
   "execution_count": 18,
   "id": "fe8486e1-74f5-4f6c-8dec-103e0929dd77",
   "metadata": {},
   "outputs": [
    {
     "name": "stdout",
     "output_type": "stream",
     "text": [
      "Start Solving...\n",
      "===============================================================================\n",
      "                                     CVXPY                                     \n",
      "                                    v1.1.18                                    \n",
      "===============================================================================\n",
      "(CVXPY) Jun 26 06:51:59 PM: Your problem has 45700 variables, 54840 constraints, and 0 parameters.\n",
      "(CVXPY) Jun 26 06:52:01 PM: It is compliant with the following grammars: DCP, DQCP\n",
      "(CVXPY) Jun 26 06:52:01 PM: (If you need to solve this problem multiple times, but with different data, consider using parameters.)\n",
      "(CVXPY) Jun 26 06:52:01 PM: CVXPY will first compile your problem; then, it will invoke a numerical solver to obtain a solution.\n",
      "-------------------------------------------------------------------------------\n",
      "                                  Compilation                                  \n",
      "-------------------------------------------------------------------------------\n",
      "(CVXPY) Jun 26 06:52:03 PM: Compiling problem (target solver=ECOS).\n",
      "(CVXPY) Jun 26 06:52:03 PM: Reduction chain: Dcp2Cone -> CvxAttr2Constr -> ConeMatrixStuffing -> ECOS\n",
      "(CVXPY) Jun 26 06:52:03 PM: Applying reduction Dcp2Cone\n",
      "(CVXPY) Jun 26 06:52:06 PM: Applying reduction CvxAttr2Constr\n",
      "(CVXPY) Jun 26 06:52:06 PM: Applying reduction ConeMatrixStuffing\n",
      "(CVXPY) Jun 26 06:53:21 PM: Applying reduction ECOS\n",
      "(CVXPY) Jun 26 06:53:34 PM: Finished problem compilation (took 9.265e+01 seconds).\n",
      "-------------------------------------------------------------------------------\n",
      "                                Numerical solver                               \n",
      "-------------------------------------------------------------------------------\n",
      "(CVXPY) Jun 26 06:53:34 PM: Invoking solver ECOS  to obtain a solution.\n",
      "-------------------------------------------------------------------------------\n",
      "                                    Summary                                    \n",
      "-------------------------------------------------------------------------------\n",
      "(CVXPY) Jun 26 06:53:35 PM: Problem status: optimal\n",
      "(CVXPY) Jun 26 06:53:35 PM: Optimal value: 1.396e+05\n",
      "(CVXPY) Jun 26 06:53:35 PM: Compilation took 9.265e+01 seconds\n",
      "(CVXPY) Jun 26 06:53:35 PM: Solver (including time spent in interface) took 2.129e-01 seconds\n",
      "All Connection:  139600.80130509293\n",
      "139600.80130509293\n",
      "(100, 457)\n"
     ]
    }
   ],
   "source": [
    "# Only minimize the carbon emission\n",
    "optimal_cost, action_mask  = offline_solver(price_all_loc, water_all_loc, carbon_all_loc, workload_trace, mask_array, num_ins, verbose=True, l_0 = 0, l_1 = 0, l_2 = l_2, f_type = \"AVG\")\n",
    "print(\"All Connection: \", optimal_cost)\n",
    "\n",
    "data_dict_pc = {\"Name\": \"Pure Carbon\",\n",
    "                \"Total_Cost\": optimal_cost,\n",
    "                \"Action\": action_mask}\n",
    "print(optimal_cost)\n",
    "print(action_mask.shape)"
   ]
  },
  {
   "cell_type": "code",
   "execution_count": 19,
   "id": "f89336ad-5518-428b-bee5-ceddce524a98",
   "metadata": {},
   "outputs": [],
   "source": [
    "with open('output/result_pure_carbon_2.pkl', 'wb') as handle:\n",
    "    pickle.dump(data_dict_pc, handle, protocol=pickle.HIGHEST_PROTOCOL)"
   ]
  },
  {
   "cell_type": "markdown",
   "id": "2f680ed3-49d8-4c5b-80b1-bf199664b700",
   "metadata": {
    "tags": []
   },
   "source": [
    "## 3. Final Evaluation"
   ]
  },
  {
   "cell_type": "code",
   "execution_count": 20,
   "id": "05ac28d6-c0af-4e3d-992b-e3f54eb7eaa9",
   "metadata": {
    "tags": []
   },
   "outputs": [
    {
     "name": "stdout",
     "output_type": "stream",
     "text": [
      "-------\n",
      "Closest Connection\n",
      "-------\n",
      "33669.45105842025\n",
      "59253.78319315321\n",
      "1432.792210790843\n",
      "1818.734618500509\n",
      "104.91162881039315\n",
      "118.5618431881312\n",
      "**************************************************\n",
      "-------\n",
      "Equitable\n",
      "-------\n",
      "33669.45105842025\n",
      "59253.78319315321\n",
      "1432.792210790843\n",
      "1818.734618500509\n",
      "104.91162881039315\n",
      "118.5618431881312\n",
      "**************************************************\n",
      "-------\n",
      "Min Price\n",
      "-------\n",
      "29169.8606287178\n",
      "42327.51158875257\n",
      "1525.069250911699\n",
      "2607.499995942185\n",
      "108.714105315913\n",
      "182.1356032921319\n",
      "**************************************************\n",
      "-------\n",
      "Price and Carbon\n",
      "-------\n",
      "31272.43697395047\n",
      "70779.11182583393\n",
      "1467.7833974742239\n",
      "2669.609162962292\n",
      "100.21896130273169\n",
      "175.56486541730902\n",
      "**************************************************\n",
      "-------\n",
      "Total Cost\n",
      "-------\n",
      "31473.60117948522\n",
      "64842.2236301698\n",
      "1429.4631562176683\n",
      "2566.60363884651\n",
      "101.13308465168961\n",
      "179.172750240521\n",
      "**************************************************\n"
     ]
    }
   ],
   "source": [
    "file_list = [\"result_closest_connect.pkl\", \"result_equitable.pkl\", \"result_min_price.pkl\", \"result_price_carbon.pkl\", \"result_total_cost.pkl\"]\n",
    "\n",
    "for path in file_list:\n",
    "    with open('output/' + path, \"rb\") as handle:\n",
    "        current_dict = pickle.load(handle)\n",
    "                                   \n",
    "    optimal_cost  = current_dict[\"Total_Cost\"]\n",
    "    action_mask   = current_dict[\"Action\"].reshape([10,10,-1])\n",
    "\n",
    "    price_res   = evaluate_single(action_mask, price_all_loc)\n",
    "    water_res   = evaluate_single(action_mask, water_all_loc)\n",
    "    carbon_res  = evaluate_single(action_mask, carbon_all_loc)\n",
    "\n",
    "    print(\"-------\")\n",
    "    print(current_dict[\"Name\"])\n",
    "    print(\"-------\")\n",
    "    \n",
    "    # Mean and max of electricity price\n",
    "    print(np.mean(price_res))\n",
    "    print(np.max(price_res))\n",
    "    \n",
    "    # Mean and max of water consumption\n",
    "    print(np.mean(water_res))\n",
    "    print(np.max(water_res))\n",
    "    \n",
    "    # Mean and max of carbon emission\n",
    "    print(np.mean(carbon_res))\n",
    "    print(np.max(carbon_res))\n",
    "\n",
    "    print(\"*\"*50)"
   ]
  },
  {
   "cell_type": "code",
   "execution_count": null,
   "id": "cbc6f7b2-4df5-41e8-9633-791ee56d0cf8",
   "metadata": {},
   "outputs": [],
   "source": []
  }
 ],
 "metadata": {
  "kernelspec": {
   "display_name": "Python 3",
   "language": "python",
   "name": "python3"
  },
  "language_info": {
   "codemirror_mode": {
    "name": "ipython",
    "version": 3
   },
   "file_extension": ".py",
   "mimetype": "text/x-python",
   "name": "python",
   "nbconvert_exporter": "python",
   "pygments_lexer": "ipython3",
   "version": "3.11.2"
  }
 },
 "nbformat": 4,
 "nbformat_minor": 5
}
