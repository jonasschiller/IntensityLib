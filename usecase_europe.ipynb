{
 "cells": [
  {
   "cell_type": "code",
   "execution_count": 11,
   "id": "59e123ff-ed83-4705-b047-4d76a582f518",
   "metadata": {},
   "outputs": [],
   "source": [
    "import numpy as np\n",
    "import pandas as pd\n",
    "import cvxpy as cp\n",
    "\n",
    "import matplotlib\n",
    "import matplotlib.pyplot as plt\n",
    "import pickle\n",
    "from copy import deepcopy\n",
    "import helper.entsoe_wrapper as entsoe\n",
    "import helper.intensity as intensity\n",
    "import helper.capacity as capacity"
   ]
  },
  {
   "cell_type": "code",
   "execution_count": 23,
   "id": "ea3a4190-9bd3-45b0-8199-8f1b0a7f5262",
   "metadata": {},
   "outputs": [],
   "source": [
    "from usecase.solve import offline_solver\n",
    "from usecase.solve import offline_solver_capa\n",
    "from usecase.dataloader import expand_gateway\n",
    "from usecase.loss import evaluate_single\n",
    "from usecase.loss import evaluate_total"
   ]
  },
  {
   "cell_type": "code",
   "execution_count": 12,
   "id": "02c1bc87",
   "metadata": {},
   "outputs": [],
   "source": [
    "start=pd.Timestamp('2022-01-01',tz='utc')\n",
    "end=pd.Timestamp('2022-12-31',tz='utc')"
   ]
  },
  {
   "cell_type": "markdown",
   "id": "d938ecba-e141-43b8-a5e5-8ef536608f12",
   "metadata": {
    "tags": []
   },
   "source": [
    "## 1. Loading Data"
   ]
  },
  {
   "cell_type": "code",
   "execution_count": 16,
   "id": "5127d365-f534-4db9-b718-78a197ba9fd4",
   "metadata": {},
   "outputs": [],
   "source": [
    "country_list   = [\"DE\",\"IE\", \"PL\", \"ES\", \"AT\", \"BE\", \"NL\", \"FR\", \"IT\", \"SE\"]\n",
    "price_all_loc  = []\n",
    "carbon_all_loc = []\n",
    "water_all_loc  = []\n",
    "capacity_all_loc = []\n",
    "\n",
    "timesteps = 457\n",
    "\n",
    "for country in country_list:\n",
    "    df             = entsoe.get_price_data(country, start, end)\n",
    "    price_array    = df.iloc[:timesteps,0]\n",
    "    price_array   = (price_array-price_array.min())/(price_array.max()-price_array.min())\n",
    "    price_all_loc += [price_array]\n",
    "    \n",
    "    df              = intensity.get_average_intensity(country, start, end, water=False)\n",
    "    carbon_array    = df.to_numpy()[:timesteps]\n",
    "    carbon_array    = (carbon_array-carbon_array.min())/(carbon_array.max()-carbon_array.min())\n",
    "    carbon_all_loc += [carbon_array]\n",
    "    \n",
    "    df             = intensity.get_complete_WUE(country, start, end)\n",
    "    water_array    = df.to_numpy()[:timesteps]\n",
    "    water_array    = (water_array-water_array.min())/(water_array.max()-water_array.min())\n",
    "    water_all_loc += [water_array]    \n",
    "\n",
    "    df          = capacity.get_usage_percentage_variable_generation(country, start, end)\n",
    "    capacity_array = df.to_numpy()[:timesteps]\n",
    "    capacity_array = (capacity_array-capacity_array.min())/(capacity_array.max()-capacity_array.min())\n",
    "    capacity_all_loc += [capacity_array]\n",
    "\n",
    "\n",
    "price_all_loc  = np.stack(price_all_loc,  axis=0)\n",
    "carbon_all_loc = np.stack(carbon_all_loc, axis=0)\n",
    "water_all_loc  = np.stack(water_all_loc,  axis=0)\n",
    "capacity_all_loc = np.stack(capacity_all_loc,  axis=0)\n",
    "\n",
    "\n",
    "wkld_csv_file  = \"usecase/AI_workload.csv\"\n",
    "df             = pd.read_csv(wkld_csv_file,index_col=0,parse_dates=True)\n",
    "workload_trace = df[\"Power (Watt)\"].to_numpy()\n",
    "workload_trace = workload_trace/2708.0*10\n",
    "workload_trace = np.repeat(workload_trace.reshape([1,-1])/10, 10, axis=0)"
   ]
  },
  {
   "cell_type": "markdown",
   "id": "e179808d-281e-4e47-8bfc-2906b4778343",
   "metadata": {},
   "source": [
    "### 1.1 Preprocess Data"
   ]
  },
  {
   "cell_type": "code",
   "execution_count": 17,
   "id": "83c0f920",
   "metadata": {},
   "outputs": [
    {
     "data": {
      "text/plain": [
       "(10, 457)"
      ]
     },
     "execution_count": 17,
     "metadata": {},
     "output_type": "execute_result"
    }
   ],
   "source": [
    "capacity_all_loc.shape"
   ]
  },
  {
   "cell_type": "code",
   "execution_count": 18,
   "id": "5673f35a-f4d4-46d5-996b-1b34340ce820",
   "metadata": {},
   "outputs": [
    {
     "name": "stdout",
     "output_type": "stream",
     "text": [
      "(100, 457)\n",
      "(100, 457)\n",
      "(100, 457)\n",
      "(100, 457)\n",
      "(10, 457)\n"
     ]
    }
   ],
   "source": [
    "si        = 0\n",
    "ei        = 457\n",
    "num_ins   = ei - si\n",
    "\n",
    "price_all_loc  = price_all_loc[:, si:ei]\n",
    "carbon_all_loc = carbon_all_loc[:, si:ei]\n",
    "water_all_loc  = water_all_loc[:, si:ei]\n",
    "capacity_all_loc = capacity_all_loc[:, si:ei]\n",
    "workload_trace = workload_trace[:, si:ei]\n",
    "\n",
    "price_all_loc  = expand_gateway(price_all_loc)\n",
    "capacity_all_loc = expand_gateway(capacity_all_loc)\n",
    "carbon_all_loc = expand_gateway(carbon_all_loc)\n",
    "water_all_loc  = expand_gateway(water_all_loc)\n",
    "\n",
    "print(price_all_loc.shape)\n",
    "print(capacity_all_loc.shape)\n",
    "print(carbon_all_loc.shape)\n",
    "print(water_all_loc.shape)\n",
    "print(workload_trace.shape)\n",
    "\n",
    "mask         = np.ones([10,10])\n",
    "mask_array   = np.repeat(mask.reshape([-1,1]), num_ins , axis=1)"
   ]
  },
  {
   "cell_type": "markdown",
   "id": "c0b50f15-2b98-43ff-bb4a-d4d1c77c0e2c",
   "metadata": {
    "tags": []
   },
   "source": [
    "## 2. Start Experiment"
   ]
  },
  {
   "cell_type": "code",
   "execution_count": 19,
   "id": "93c95ea7-d819-4ce4-9121-b32682aaa1f0",
   "metadata": {},
   "outputs": [],
   "source": [
    "l_1 = 0.2      # mu_water for the water consumption weight\n",
    "l_2 = 0.1     # mu_carbon for carbon emission weight"
   ]
  },
  {
   "cell_type": "markdown",
   "id": "8a9fc740",
   "metadata": {},
   "source": [
    "### 2.1 Scaled"
   ]
  },
  {
   "cell_type": "code",
   "execution_count": 7,
   "id": "32a0735b",
   "metadata": {},
   "outputs": [
    {
     "name": "stdout",
     "output_type": "stream",
     "text": [
      "Start Solving...\n",
      "===============================================================================\n",
      "                                     CVXPY                                     \n",
      "                                     v1.6.0                                    \n",
      "===============================================================================\n",
      "(CVXPY) Jan 16 11:38:11 AM: Your problem has 45700 variables, 54840 constraints, and 0 parameters.\n",
      "(CVXPY) Jan 16 11:38:12 AM: It is compliant with the following grammars: DCP, DQCP\n",
      "(CVXPY) Jan 16 11:38:12 AM: (If you need to solve this problem multiple times, but with different data, consider using parameters.)\n",
      "(CVXPY) Jan 16 11:38:12 AM: CVXPY will first compile your problem; then, it will invoke a numerical solver to obtain a solution.\n",
      "(CVXPY) Jan 16 11:38:12 AM: Your problem is compiled with the CPP canonicalization backend.\n",
      "-------------------------------------------------------------------------------\n",
      "                                  Compilation                                  \n",
      "-------------------------------------------------------------------------------\n",
      "(CVXPY) Jan 16 11:38:13 AM: Compiling problem (target solver=CLARABEL).\n",
      "(CVXPY) Jan 16 11:38:13 AM: Reduction chain: Dcp2Cone -> CvxAttr2Constr -> ConeMatrixStuffing -> CLARABEL\n",
      "(CVXPY) Jan 16 11:38:13 AM: Applying reduction Dcp2Cone\n",
      "(CVXPY) Jan 16 11:38:15 AM: Applying reduction CvxAttr2Constr\n",
      "(CVXPY) Jan 16 11:38:16 AM: Applying reduction ConeMatrixStuffing\n",
      "(CVXPY) Jan 16 11:39:45 AM: Applying reduction CLARABEL\n",
      "(CVXPY) Jan 16 11:39:47 AM: Finished problem compilation (took 9.562e+01 seconds).\n",
      "-------------------------------------------------------------------------------\n",
      "                                Numerical solver                               \n",
      "-------------------------------------------------------------------------------\n",
      "(CVXPY) Jan 16 11:39:47 AM: Invoking solver CLARABEL  to obtain a solution.\n",
      "-------------------------------------------------------------\n",
      "           Clarabel.rs v0.9.0  -  Clever Acronym                \n",
      "\n",
      "                   (c) Paul Goulart                          \n",
      "                University of Oxford, 2022                   \n",
      "-------------------------------------------------------------\n",
      "\n",
      "problem:\n",
      "  variables     = 45700\n",
      "  constraints   = 54840\n",
      "  nnz(P)        = 0\n",
      "  nnz(A)        = 137100\n",
      "  cones (total) = 2\n",
      "    :        Zero = 1,  numel = 4570\n",
      "    : Nonnegative = 1,  numel = 50270\n",
      "\n",
      "settings:\n",
      "  linear algebra: direct / qdldl, precision: 64 bit\n",
      "  max iter = 200, time limit = Inf,  max step = 0.990\n",
      "  tol_feas = 1.0e-8, tol_gap_abs = 1.0e-8, tol_gap_rel = 1.0e-8,\n",
      "  static reg : on, ϵ1 = 1.0e-8, ϵ2 = 4.9e-32\n",
      "  dynamic reg: on, ϵ = 1.0e-13, δ = 2.0e-7\n",
      "  iter refine: on, reltol = 1.0e-13, abstol = 1.0e-12,\n",
      "               max iter = 10, stop ratio = 5.0\n",
      "  equilibrate: on, min_scale = 1.0e-4, max_scale = 1.0e4\n",
      "               max iter = 10\n",
      "\n",
      "iter    pcost        dcost       gap       pres      dres      k/t        μ       step      \n",
      "---------------------------------------------------------------------------------------------\n",
      "  0  +1.1517e+03  -4.8733e+03  5.23e+00  8.61e-01  7.46e-17  1.00e+00  1.44e+00   ------   \n",
      "  1  +1.0882e+03  -2.7662e+02  4.93e+00  5.63e-01  1.28e-16  1.21e+00  9.83e-01  8.27e-01  \n",
      "  2  +1.0415e+03  +3.7265e+02  1.79e+00  3.55e-01  1.91e-16  1.67e+00  7.82e-01  4.08e-01  \n",
      "  3  +1.0384e+03  +7.4784e+02  3.88e-01  1.82e-01  2.18e-16  1.14e+00  4.89e-01  6.07e-01  \n",
      "  4  +1.0372e+03  +9.6919e+02  7.01e-02  4.59e-02  2.08e-16  3.11e-01  1.52e-01  7.63e-01  \n",
      "  5  +1.0338e+03  +1.0091e+03  2.46e-02  1.63e-02  2.29e-16  8.32e-02  5.89e-02  7.41e-01  \n",
      "  6  +1.0321e+03  +1.0228e+03  9.09e-03  5.97e-03  2.09e-16  2.61e-02  2.27e-02  6.84e-01  \n",
      "  7  +1.0313e+03  +1.0277e+03  3.48e-03  2.25e-03  2.64e-16  8.64e-03  8.84e-03  6.66e-01  \n",
      "  8  +1.0309e+03  +1.0296e+03  1.31e-03  8.35e-04  2.04e-16  2.09e-03  3.34e-03  7.59e-01  \n",
      "  9  +1.0308e+03  +1.0303e+03  4.71e-04  2.98e-04  2.40e-16  4.78e-04  1.20e-03  7.73e-01  \n",
      " 10  +1.0307e+03  +1.0305e+03  1.96e-04  1.23e-04  2.57e-16  1.10e-04  5.02e-04  7.74e-01  \n",
      " 11  +1.0307e+03  +1.0306e+03  7.51e-05  4.72e-05  2.95e-16  2.53e-05  1.92e-04  7.77e-01  \n",
      " 12  +1.0307e+03  +1.0307e+03  3.12e-05  1.96e-05  3.72e-16  7.23e-06  8.00e-05  7.24e-01  \n",
      " 13  +1.0307e+03  +1.0307e+03  1.07e-05  6.71e-06  2.47e-16  7.89e-07  2.74e-05  9.17e-01  \n",
      " 14  +1.0307e+03  +1.0307e+03  4.00e-06  2.51e-06  2.26e-16  1.57e-07  1.02e-05  8.83e-01  \n",
      " 15  +1.0307e+03  +1.0307e+03  4.32e-07  2.71e-07  2.21e-16  1.67e-08  1.11e-06  8.96e-01  \n",
      " 16  +1.0307e+03  +1.0307e+03  5.85e-09  3.67e-09  2.38e-16  2.08e-10  1.50e-08  9.89e-01  \n",
      "---------------------------------------------------------------------------------------------\n",
      "Terminated with status = Solved\n",
      "solve time = 334.5462ms\n",
      "-------------------------------------------------------------------------------\n",
      "                                    Summary                                    \n",
      "-------------------------------------------------------------------------------\n",
      "(CVXPY) Jan 16 11:39:48 AM: Problem status: optimal\n",
      "(CVXPY) Jan 16 11:39:48 AM: Optimal value: 1.031e+03\n",
      "(CVXPY) Jan 16 11:39:48 AM: Compilation took 9.562e+01 seconds\n",
      "(CVXPY) Jan 16 11:39:48 AM: Solver (including time spent in interface) took 3.765e-01 seconds\n",
      "All Connection:  1030.6753311871587\n",
      "1030.6753311871587\n",
      "(100, 457)\n"
     ]
    }
   ],
   "source": [
    "optimal_cost, action_mask  = offline_solver(price_all_loc, water_all_loc, carbon_all_loc, workload_trace, mask_array, num_ins, verbose=True,l_0=1-l_1-l_2, l_1 = l_1, l_2 = l_2,f_type=\"AVG\")\n",
    "print(\"All Connection: \", optimal_cost)\n",
    "\n",
    "data_dict_eq = {\"Name\": \"Equitable\",\n",
    "                \"Total_Cost\": optimal_cost,\n",
    "                \"Action\": action_mask}\n",
    "print(optimal_cost)\n",
    "print(action_mask.shape)"
   ]
  },
  {
   "cell_type": "markdown",
   "id": "ec5f3ed2-e549-49e9-ad53-8706c6e38ae6",
   "metadata": {
    "tags": []
   },
   "source": [
    "### 2.2 Equitable (Ours)"
   ]
  },
  {
   "cell_type": "code",
   "execution_count": 8,
   "id": "fbd91642-ba5f-4ce0-82a5-423ca4fedfcd",
   "metadata": {
    "tags": []
   },
   "outputs": [
    {
     "name": "stdout",
     "output_type": "stream",
     "text": [
      "Start Solving...\n",
      "===============================================================================\n",
      "                                     CVXPY                                     \n",
      "                                     v1.6.0                                    \n",
      "===============================================================================\n",
      "(CVXPY) Jan 16 11:39:51 AM: Your problem has 45700 variables, 54840 constraints, and 0 parameters.\n",
      "(CVXPY) Jan 16 11:39:52 AM: It is compliant with the following grammars: DCP, DQCP\n",
      "(CVXPY) Jan 16 11:39:52 AM: (If you need to solve this problem multiple times, but with different data, consider using parameters.)\n",
      "(CVXPY) Jan 16 11:39:52 AM: CVXPY will first compile your problem; then, it will invoke a numerical solver to obtain a solution.\n",
      "(CVXPY) Jan 16 11:39:52 AM: Your problem is compiled with the CPP canonicalization backend.\n",
      "-------------------------------------------------------------------------------\n",
      "                                  Compilation                                  \n",
      "-------------------------------------------------------------------------------\n",
      "(CVXPY) Jan 16 11:39:55 AM: Compiling problem (target solver=CLARABEL).\n",
      "(CVXPY) Jan 16 11:39:55 AM: Reduction chain: Dcp2Cone -> CvxAttr2Constr -> ConeMatrixStuffing -> CLARABEL\n",
      "(CVXPY) Jan 16 11:39:55 AM: Applying reduction Dcp2Cone\n",
      "(CVXPY) Jan 16 11:39:57 AM: Applying reduction CvxAttr2Constr\n",
      "(CVXPY) Jan 16 11:39:57 AM: Applying reduction ConeMatrixStuffing\n",
      "(CVXPY) Jan 16 11:42:11 AM: Applying reduction CLARABEL\n",
      "(CVXPY) Jan 16 11:42:13 AM: Finished problem compilation (took 1.403e+02 seconds).\n",
      "-------------------------------------------------------------------------------\n",
      "                                Numerical solver                               \n",
      "-------------------------------------------------------------------------------\n",
      "(CVXPY) Jan 16 11:42:13 AM: Invoking solver CLARABEL  to obtain a solution.\n",
      "-------------------------------------------------------------\n",
      "           Clarabel.rs v0.9.0  -  Clever Acronym                \n",
      "\n",
      "                   (c) Paul Goulart                          \n",
      "                University of Oxford, 2022                   \n",
      "-------------------------------------------------------------\n",
      "\n",
      "problem:\n",
      "  variables     = 45702\n",
      "  constraints   = 54880\n",
      "  nnz(P)        = 0\n",
      "  nnz(A)        = 319500\n",
      "  cones (total) = 2\n",
      "    :        Zero = 1,  numel = 4570\n",
      "    : Nonnegative = 1,  numel = 50310\n",
      "\n",
      "settings:\n",
      "  linear algebra: direct / qdldl, precision: 64 bit\n",
      "  max iter = 200, time limit = Inf,  max step = 0.990\n",
      "  tol_feas = 1.0e-8, tol_gap_abs = 1.0e-8, tol_gap_rel = 1.0e-8,\n",
      "  static reg : on, ϵ1 = 1.0e-8, ϵ2 = 4.9e-32\n",
      "  dynamic reg: on, ϵ = 1.0e-13, δ = 2.0e-7\n",
      "  iter refine: on, reltol = 1.0e-13, abstol = 1.0e-12,\n",
      "               max iter = 10, stop ratio = 5.0\n",
      "  equilibrate: on, min_scale = 1.0e-4, max_scale = 1.0e4\n",
      "               max iter = 10\n",
      "\n",
      "iter    pcost        dcost       gap       pres      dres      k/t        μ       step      \n",
      "---------------------------------------------------------------------------------------------\n",
      "  0  +7.4688e+02  -4.7670e+03  7.38e+00  9.64e-01  1.04e-01  1.00e+00  1.26e+01   ------   \n",
      "  1  +8.4528e+02  -3.0009e+03  4.55e+00  9.43e-01  5.25e-02  3.74e+00  6.34e+00  6.54e-01  \n",
      "  2  +9.0068e+02  -1.5569e+03  2.73e+00  7.86e-01  4.27e-02  1.71e+00  6.18e+00  9.43e-02  \n",
      "  3  +1.0185e+03  +1.9256e+02  4.29e+00  2.80e-01  2.02e-02  2.93e-01  5.97e+00  1.33e-01  \n",
      "  4  +1.0242e+03  +5.5077e+02  8.60e-01  1.49e-01  1.21e-02  2.37e-01  5.70e+00  1.98e-01  \n",
      "  5  +1.0223e+03  +6.7110e+02  5.23e-01  1.06e-01  8.96e-03  2.22e-01  5.48e+00  2.19e-01  \n",
      "  6  +1.0232e+03  +8.1967e+02  2.48e-01  6.01e-02  5.27e-03  1.32e-01  4.44e+00  2.31e-01  \n",
      "  7  +1.0283e+03  +8.6585e+02  1.88e-01  4.70e-02  4.16e-03  1.19e-01  4.10e+00  3.12e-01  \n",
      "  8  +1.0312e+03  +9.3352e+02  1.05e-01  2.68e-02  2.38e-03  8.27e-02  3.14e+00  7.03e-01  \n",
      "  9  +1.0331e+03  +9.5260e+02  8.45e-02  2.20e-02  1.95e-03  6.75e-02  2.78e+00  3.94e-01  \n",
      " 10  +1.0341e+03  +9.6120e+02  7.59e-02  1.98e-02  1.75e-03  5.99e-02  2.59e+00  2.99e-01  \n",
      " 11  +1.0389e+03  +1.0098e+03  2.88e-02  7.80e-03  6.91e-04  2.37e-02  1.34e+00  5.58e-01  \n",
      " 12  +1.0399e+03  +1.0154e+03  2.41e-02  6.55e-03  5.79e-04  1.85e-02  1.16e+00  2.59e-01  \n",
      " 13  +1.0409e+03  +1.0220e+03  1.85e-02  5.04e-03  4.46e-04  1.19e-02  9.33e-01  4.57e-01  \n",
      " 14  +1.0429e+03  +1.0327e+03  9.95e-03  2.73e-03  2.41e-04  4.83e-03  5.51e-01  6.80e-01  \n",
      " 15  +1.0438e+03  +1.0373e+03  6.34e-03  1.74e-03  1.54e-04  2.48e-03  3.69e-01  5.48e-01  \n",
      " 16  +1.0448e+03  +1.0412e+03  3.50e-03  9.63e-04  8.50e-05  1.26e-03  2.13e-01  4.95e-01  \n",
      " 17  +1.0452e+03  +1.0426e+03  2.41e-03  6.63e-04  5.85e-05  7.65e-04  1.49e-01  4.27e-01  \n",
      " 18  +1.0455e+03  +1.0443e+03  1.12e-03  3.09e-04  2.73e-05  1.58e-04  7.11e-02  9.27e-01  \n",
      " 19  +1.0457e+03  +1.0449e+03  7.25e-04  2.00e-04  1.76e-05  9.46e-05  4.63e-02  4.87e-01  \n",
      " 20  +1.0459e+03  +1.0455e+03  3.68e-04  1.02e-04  8.96e-06  3.83e-05  2.37e-02  8.31e-01  \n",
      " 21  +1.0460e+03  +1.0458e+03  1.72e-04  4.74e-05  4.18e-06  1.65e-05  1.11e-02  7.88e-01  \n",
      " 22  +1.0460e+03  +1.0459e+03  8.95e-05  2.47e-05  2.18e-06  8.26e-06  5.83e-03  7.14e-01  \n",
      " 23  +1.0460e+03  +1.0460e+03  4.35e-05  1.20e-05  1.06e-06  3.97e-06  2.84e-03  6.43e-01  \n",
      " 24  +1.0460e+03  +1.0460e+03  3.00e-05  8.28e-06  7.30e-07  2.64e-06  1.96e-03  8.59e-01  \n",
      " 25  +1.0460e+03  +1.0460e+03  1.03e-05  2.86e-06  2.52e-07  9.10e-07  6.76e-04  7.07e-01  \n",
      " 26  +1.0460e+03  +1.0460e+03  5.12e-06  1.42e-06  1.25e-07  4.48e-07  3.35e-04  8.14e-01  \n",
      " 27  +1.0460e+03  +1.0460e+03  1.63e-06  4.49e-07  3.97e-08  1.42e-07  1.06e-04  7.62e-01  \n",
      " 28  +1.0460e+03  +1.0460e+03  2.08e-07  5.73e-08  5.06e-09  1.81e-08  1.36e-05  9.09e-01  \n",
      " 29  +1.0460e+03  +1.0460e+03  9.35e-08  2.58e-08  2.28e-09  8.15e-09  6.11e-06  6.72e-01  \n",
      " 30  +1.0460e+03  +1.0460e+03  1.12e-09  3.09e-10  2.73e-11  9.76e-11  7.31e-08  9.88e-01  \n",
      "---------------------------------------------------------------------------------------------\n",
      "Terminated with status = Solved\n",
      "solve time = 2.0715137s\n",
      "-------------------------------------------------------------------------------\n",
      "                                    Summary                                    \n",
      "-------------------------------------------------------------------------------\n",
      "(CVXPY) Jan 16 11:42:15 AM: Problem status: optimal\n",
      "(CVXPY) Jan 16 11:42:15 AM: Optimal value: 1.046e+03\n",
      "(CVXPY) Jan 16 11:42:15 AM: Compilation took 1.403e+02 seconds\n",
      "(CVXPY) Jan 16 11:42:15 AM: Solver (including time spent in interface) took 2.118e+00 seconds\n",
      "All Connection:  1046.0347064457164\n",
      "1046.0347064457164\n",
      "(100, 457)\n"
     ]
    }
   ],
   "source": [
    "optimal_cost, action_mask  = offline_solver(price_all_loc, water_all_loc, carbon_all_loc, workload_trace, mask_array, num_ins, verbose=True, l_0=1-l_1-l_2,l_1 = l_1, l_2 = l_2, f_type = \"MAX\")\n",
    "print(\"All Connection: \", optimal_cost)\n",
    "\n",
    "data_dict_eq = {\"Name\": \"Equitable\",\n",
    "                \"Total_Cost\": optimal_cost,\n",
    "                \"Action\": action_mask}\n",
    "print(optimal_cost)\n",
    "print(action_mask.shape)"
   ]
  },
  {
   "cell_type": "code",
   "execution_count": 9,
   "id": "473d9ef9-e65b-451a-8965-31f3c387651e",
   "metadata": {},
   "outputs": [],
   "source": [
    "with open('output/result_equitable.pkl', 'wb') as handle:\n",
    "    pickle.dump(data_dict_eq, handle, protocol=pickle.HIGHEST_PROTOCOL)"
   ]
  },
  {
   "cell_type": "markdown",
   "id": "bc31a8ac",
   "metadata": {},
   "source": [
    "### 2.1.1 Including Capacity "
   ]
  },
  {
   "cell_type": "code",
   "execution_count": 21,
   "id": "bd1686c9",
   "metadata": {},
   "outputs": [
    {
     "name": "stdout",
     "output_type": "stream",
     "text": [
      "Start Solving...\n",
      "===============================================================================\n",
      "                                     CVXPY                                     \n",
      "                                     v1.6.0                                    \n",
      "===============================================================================\n",
      "(CVXPY) Jan 16 01:25:01 PM: Your problem has 45700 variables, 54840 constraints, and 0 parameters.\n",
      "(CVXPY) Jan 16 01:25:02 PM: It is compliant with the following grammars: DCP, DQCP\n",
      "(CVXPY) Jan 16 01:25:02 PM: (If you need to solve this problem multiple times, but with different data, consider using parameters.)\n",
      "(CVXPY) Jan 16 01:25:02 PM: CVXPY will first compile your problem; then, it will invoke a numerical solver to obtain a solution.\n",
      "(CVXPY) Jan 16 01:25:02 PM: Your problem is compiled with the CPP canonicalization backend.\n",
      "-------------------------------------------------------------------------------\n",
      "                                  Compilation                                  \n",
      "-------------------------------------------------------------------------------\n",
      "(CVXPY) Jan 16 01:25:03 PM: Compiling problem (target solver=CLARABEL).\n",
      "(CVXPY) Jan 16 01:25:03 PM: Reduction chain: Dcp2Cone -> CvxAttr2Constr -> ConeMatrixStuffing -> CLARABEL\n",
      "(CVXPY) Jan 16 01:25:03 PM: Applying reduction Dcp2Cone\n",
      "(CVXPY) Jan 16 01:25:05 PM: Applying reduction CvxAttr2Constr\n",
      "(CVXPY) Jan 16 01:25:06 PM: Applying reduction ConeMatrixStuffing\n",
      "(CVXPY) Jan 16 01:27:21 PM: Applying reduction CLARABEL\n",
      "(CVXPY) Jan 16 01:27:23 PM: Finished problem compilation (took 1.415e+02 seconds).\n",
      "-------------------------------------------------------------------------------\n",
      "                                Numerical solver                               \n",
      "-------------------------------------------------------------------------------\n",
      "(CVXPY) Jan 16 01:27:23 PM: Invoking solver CLARABEL  to obtain a solution.\n",
      "-------------------------------------------------------------\n",
      "           Clarabel.rs v0.9.0  -  Clever Acronym                \n",
      "\n",
      "                   (c) Paul Goulart                          \n",
      "                University of Oxford, 2022                   \n",
      "-------------------------------------------------------------\n",
      "\n",
      "problem:\n",
      "  variables     = 45703\n",
      "  constraints   = 54900\n",
      "  nnz(P)        = 0\n",
      "  nnz(A)        = 410720\n",
      "  cones (total) = 2\n",
      "    :        Zero = 1,  numel = 4570\n",
      "    : Nonnegative = 1,  numel = 50330\n",
      "\n",
      "settings:\n",
      "  linear algebra: direct / qdldl, precision: 64 bit\n",
      "  max iter = 200, time limit = Inf,  max step = 0.990\n",
      "  tol_feas = 1.0e-8, tol_gap_abs = 1.0e-8, tol_gap_rel = 1.0e-8,\n",
      "  static reg : on, ϵ1 = 1.0e-8, ϵ2 = 4.9e-32\n",
      "  dynamic reg: on, ϵ = 1.0e-13, δ = 2.0e-7\n",
      "  iter refine: on, reltol = 1.0e-13, abstol = 1.0e-12,\n",
      "               max iter = 10, stop ratio = 5.0\n",
      "  equilibrate: on, min_scale = 1.0e-4, max_scale = 1.0e4\n",
      "               max iter = 10\n",
      "\n",
      "iter    pcost        dcost       gap       pres      dres      k/t        μ       step      \n",
      "---------------------------------------------------------------------------------------------\n",
      "  0  +5.4133e+02  -4.8815e+03  1.00e+01  9.65e-01  1.25e-01  1.00e+00  1.36e+01   ------   \n",
      "  1  +6.5697e+02  -3.1198e+03  5.75e+00  9.39e-01  5.44e-02  4.71e+00  5.82e+00  7.33e-01  \n",
      "  2  +6.9478e+02  -2.4518e+03  4.53e+00  8.87e-01  4.98e-02  3.81e+00  5.68e+00  7.43e-02  \n",
      "  3  +8.6556e+02  -3.9557e+02  3.19e+00  3.98e-01  2.70e-02  5.85e-01  5.23e+00  2.84e-01  \n",
      "  4  +9.0124e+02  +2.9088e+02  2.10e+00  1.81e-01  1.53e-02  3.34e-01  4.98e+00  1.27e-01  \n",
      "  5  +9.0376e+02  +5.6217e+02  6.08e-01  9.67e-02  9.12e-03  2.64e-01  4.77e+00  2.16e-01  \n",
      "  6  +9.0406e+02  +7.3641e+02  2.28e-01  4.60e-02  4.58e-03  1.49e-01  3.84e+00  3.43e-01  \n",
      "  7  +9.0537e+02  +7.5885e+02  1.93e-01  3.96e-02  3.95e-03  1.39e-01  3.68e+00  1.91e-01  \n",
      "  8  +9.0892e+02  +8.2980e+02  9.54e-02  2.10e-02  2.12e-03  7.88e-02  2.71e+00  4.33e-01  \n",
      "  9  +9.0860e+02  +8.3008e+02  9.46e-02  2.04e-02  2.05e-03  7.87e-02  2.68e+00  1.66e-01  \n",
      " 10  +9.1299e+02  +8.7861e+02  3.91e-02  8.78e-03  8.86e-04  3.41e-02  1.56e+00  5.06e-01  \n",
      " 11  +9.1460e+02  +8.8705e+02  3.11e-02  7.01e-03  7.07e-04  2.38e-02  1.30e+00  4.36e-01  \n",
      " 12  +9.1638e+02  +8.9825e+02  2.02e-02  4.59e-03  4.63e-04  1.32e-02  9.32e-01  5.60e-01  \n",
      " 13  +9.1776e+02  +9.0753e+02  1.13e-02  2.58e-03  2.60e-04  6.36e-03  5.75e-01  5.62e-01  \n",
      " 14  +9.1868e+02  +9.1378e+02  5.36e-03  1.23e-03  1.24e-04  2.65e-03  2.97e-01  5.95e-01  \n",
      " 15  +9.1902e+02  +9.1630e+02  2.97e-03  6.80e-04  6.86e-05  1.33e-03  1.71e-01  5.00e-01  \n",
      " 16  +9.1917e+02  +9.1795e+02  1.33e-03  3.06e-04  3.08e-05  3.54e-04  7.88e-02  7.96e-01  \n",
      " 17  +9.1927e+02  +9.1858e+02  7.56e-04  1.73e-04  1.75e-05  1.82e-04  4.53e-02  5.09e-01  \n",
      " 18  +9.1935e+02  +9.1906e+02  3.08e-04  7.06e-05  7.12e-06  6.19e-05  1.87e-02  6.99e-01  \n",
      " 19  +9.1937e+02  +9.1924e+02  1.46e-04  3.35e-05  3.38e-06  1.88e-05  8.91e-03  8.31e-01  \n",
      " 20  +9.1939e+02  +9.1931e+02  7.88e-05  1.81e-05  1.82e-06  8.23e-06  4.82e-03  7.82e-01  \n",
      " 21  +9.1939e+02  +9.1935e+02  3.98e-05  9.13e-06  9.20e-07  4.01e-06  2.44e-03  6.03e-01  \n",
      " 22  +9.1939e+02  +9.1938e+02  1.82e-05  4.18e-06  4.21e-07  1.60e-06  1.12e-03  9.66e-01  \n",
      " 23  +9.1939e+02  +9.1939e+02  9.10e-06  2.09e-06  2.10e-07  7.97e-07  5.58e-04  6.42e-01  \n",
      " 24  +9.1940e+02  +9.1939e+02  2.93e-06  6.72e-07  6.77e-08  2.55e-07  1.80e-04  8.52e-01  \n",
      " 25  +9.1940e+02  +9.1940e+02  6.72e-07  1.54e-07  1.55e-08  5.82e-08  4.12e-05  9.90e-01  \n",
      " 26  +9.1940e+02  +9.1940e+02  4.88e-08  1.12e-08  1.13e-09  4.23e-09  2.99e-06  9.33e-01  \n",
      " 27  +9.1940e+02  +9.1940e+02  9.88e-09  2.27e-09  2.28e-10  8.56e-10  6.06e-07  8.32e-01  \n",
      "---------------------------------------------------------------------------------------------\n",
      "Terminated with status = Solved\n",
      "solve time = 2.4840498s\n",
      "-------------------------------------------------------------------------------\n",
      "                                    Summary                                    \n",
      "-------------------------------------------------------------------------------\n",
      "(CVXPY) Jan 16 01:27:26 PM: Problem status: optimal\n",
      "(CVXPY) Jan 16 01:27:26 PM: Optimal value: 9.194e+02\n",
      "(CVXPY) Jan 16 01:27:26 PM: Compilation took 1.415e+02 seconds\n",
      "(CVXPY) Jan 16 01:27:26 PM: Solver (including time spent in interface) took 2.548e+00 seconds\n",
      "All Connection:  919.3957987845766\n",
      "919.3957987845766\n",
      "(100, 457)\n"
     ]
    }
   ],
   "source": [
    "l_3=0.1\n",
    "optimal_cost, action_mask  = offline_solver_capa(price_all_loc, water_all_loc, carbon_all_loc, capacity_all_loc, workload_trace, mask_array, num_ins, verbose=True, l_0=1-l_1-l_2-l_3,l_1 = l_1, l_2 = l_2,l_3=l_3, f_type = \"MAX\")\n",
    "print(\"All Connection: \", optimal_cost)\n",
    "\n",
    "data_dict_eq = {\"Name\": \"Equitable\",\n",
    "                \"Total_Cost\": optimal_cost,\n",
    "                \"Action\": action_mask}\n",
    "print(optimal_cost)\n",
    "print(action_mask.shape)"
   ]
  },
  {
   "cell_type": "code",
   "execution_count": 34,
   "id": "8d290af1",
   "metadata": {},
   "outputs": [
    {
     "data": {
      "text/plain": [
       "[<matplotlib.lines.Line2D at 0x218c0ec1710>]"
      ]
     },
     "execution_count": 34,
     "metadata": {},
     "output_type": "execute_result"
    },
    {
     "data": {
      "image/png": "[encoded data removed]",
      "text/plain": [
       "<Figure size 640x480 with 1 Axes>"
      ]
     },
     "metadata": {},
     "output_type": "display_data"
    }
   ],
   "source": [
    "plt.plot(action_mask.sum(axis=1)[0].T)"
   ]
  },
  {
   "cell_type": "code",
   "execution_count": 27,
   "id": "7e63245b",
   "metadata": {},
   "outputs": [
    {
     "ename": "ValueError",
     "evalue": "operands could not be broadcast together with shapes (10,10,457) (100,457) ",
     "output_type": "error",
     "traceback": [
      "\u001b[1;31m---------------------------------------------------------------------------\u001b[0m",
      "\u001b[1;31mValueError\u001b[0m                                Traceback (most recent call last)",
      "Cell \u001b[1;32mIn[27], line 2\u001b[0m\n\u001b[0;32m      1\u001b[0m action_mask\u001b[38;5;241m=\u001b[39maction_mask\u001b[38;5;241m.\u001b[39mreshape(\u001b[38;5;241m10\u001b[39m,\u001b[38;5;241m10\u001b[39m,\u001b[38;5;241m457\u001b[39m)\n\u001b[1;32m----> 2\u001b[0m energy_price\u001b[38;5;241m=\u001b[39m\u001b[43mevaluate_single\u001b[49m\u001b[43m(\u001b[49m\u001b[43mprice_all_loc\u001b[49m\u001b[43m,\u001b[49m\u001b[43m \u001b[49m\u001b[43maction_mask\u001b[49m\u001b[43m)\u001b[49m\n",
      "File \u001b[1;32mc:\\Daten\\Foschung\\RiskAware\\IntensityLib\\usecase\\loss.py:8\u001b[0m, in \u001b[0;36mevaluate_single\u001b[1;34m(action_mask, price_all_loc)\u001b[0m\n\u001b[0;32m      4\u001b[0m \u001b[38;5;250m\u001b[39m\u001b[38;5;124;03m'''\u001b[39;00m\n\u001b[0;32m      5\u001b[0m \u001b[38;5;124;03mEvaluate the price of single resource\u001b[39;00m\n\u001b[0;32m      6\u001b[0m \u001b[38;5;124;03m'''\u001b[39;00m\n\u001b[0;32m      7\u001b[0m price_tensor  \u001b[38;5;241m=\u001b[39m price_all_loc\u001b[38;5;241m.\u001b[39mreshape([\u001b[38;5;241m10\u001b[39m,\u001b[38;5;241m10\u001b[39m,\u001b[38;5;241m-\u001b[39m\u001b[38;5;241m1\u001b[39m])\n\u001b[1;32m----> 8\u001b[0m price_res     \u001b[38;5;241m=\u001b[39m \u001b[43mnp\u001b[49m\u001b[38;5;241;43m.\u001b[39;49m\u001b[43mmultiply\u001b[49m\u001b[43m(\u001b[49m\u001b[43mprice_tensor\u001b[49m\u001b[43m,\u001b[49m\u001b[43m \u001b[49m\u001b[43maction_mask\u001b[49m\u001b[43m)\u001b[49m\n\u001b[0;32m      9\u001b[0m price_res     \u001b[38;5;241m=\u001b[39m price_res\u001b[38;5;241m.\u001b[39msum(axis\u001b[38;5;241m=\u001b[39m(\u001b[38;5;241m1\u001b[39m,\u001b[38;5;241m2\u001b[39m))\n\u001b[0;32m     11\u001b[0m \u001b[38;5;28;01mreturn\u001b[39;00m price_res\n",
      "\u001b[1;31mValueError\u001b[0m: operands could not be broadcast together with shapes (10,10,457) (100,457) "
     ]
    }
   ],
   "source": [
    "action_mask=action_mask.reshape(10,10,457)\n",
    "energy_price=evaluate_single(price_all_loc, action_mask)"
   ]
  },
  {
   "cell_type": "markdown",
   "id": "3ca875ac-3789-421f-9b4c-5e948d1ae8e9",
   "metadata": {
    "tags": []
   },
   "source": [
    "### 2.3 Min Price"
   ]
  },
  {
   "cell_type": "code",
   "execution_count": 9,
   "id": "b9b2d737-6cd7-49e1-bac9-15ecc216d1af",
   "metadata": {},
   "outputs": [
    {
     "name": "stdout",
     "output_type": "stream",
     "text": [
      "Start Solving...\n",
      "===============================================================================\n",
      "                                     CVXPY                                     \n",
      "                                     v1.6.0                                    \n",
      "===============================================================================\n",
      "(CVXPY) Jan 16 11:42:18 AM: Your problem has 45700 variables, 54840 constraints, and 0 parameters.\n",
      "(CVXPY) Jan 16 11:42:20 AM: It is compliant with the following grammars: DCP, DQCP\n",
      "(CVXPY) Jan 16 11:42:20 AM: (If you need to solve this problem multiple times, but with different data, consider using parameters.)\n",
      "(CVXPY) Jan 16 11:42:20 AM: CVXPY will first compile your problem; then, it will invoke a numerical solver to obtain a solution.\n",
      "(CVXPY) Jan 16 11:42:20 AM: Your problem is compiled with the CPP canonicalization backend.\n",
      "-------------------------------------------------------------------------------\n",
      "                                  Compilation                                  \n",
      "-------------------------------------------------------------------------------\n",
      "(CVXPY) Jan 16 11:42:21 AM: Compiling problem (target solver=CLARABEL).\n",
      "(CVXPY) Jan 16 11:42:21 AM: Reduction chain: Dcp2Cone -> CvxAttr2Constr -> ConeMatrixStuffing -> CLARABEL\n",
      "(CVXPY) Jan 16 11:42:21 AM: Applying reduction Dcp2Cone\n",
      "(CVXPY) Jan 16 11:42:24 AM: Applying reduction CvxAttr2Constr\n",
      "(CVXPY) Jan 16 11:42:24 AM: Applying reduction ConeMatrixStuffing\n",
      "(CVXPY) Jan 16 11:43:44 AM: Applying reduction CLARABEL\n",
      "(CVXPY) Jan 16 11:43:46 AM: Finished problem compilation (took 8.645e+01 seconds).\n",
      "-------------------------------------------------------------------------------\n",
      "                                Numerical solver                               \n",
      "-------------------------------------------------------------------------------\n",
      "(CVXPY) Jan 16 11:43:46 AM: Invoking solver CLARABEL  to obtain a solution.\n",
      "-------------------------------------------------------------\n",
      "           Clarabel.rs v0.9.0  -  Clever Acronym                \n",
      "\n",
      "                   (c) Paul Goulart                          \n",
      "                University of Oxford, 2022                   \n",
      "-------------------------------------------------------------\n",
      "\n",
      "problem:\n",
      "  variables     = 45700\n",
      "  constraints   = 54840\n",
      "  nnz(P)        = 0\n",
      "  nnz(A)        = 137100\n",
      "  cones (total) = 2\n",
      "    :        Zero = 1,  numel = 4570\n",
      "    : Nonnegative = 1,  numel = 50270\n",
      "\n",
      "settings:\n",
      "  linear algebra: direct / qdldl, precision: 64 bit\n",
      "  max iter = 200, time limit = Inf,  max step = 0.990\n",
      "  tol_feas = 1.0e-8, tol_gap_abs = 1.0e-8, tol_gap_rel = 1.0e-8,\n",
      "  static reg : on, ϵ1 = 1.0e-8, ϵ2 = 4.9e-32\n",
      "  dynamic reg: on, ϵ = 1.0e-13, δ = 2.0e-7\n",
      "  iter refine: on, reltol = 1.0e-13, abstol = 1.0e-12,\n",
      "               max iter = 10, stop ratio = 5.0\n",
      "  equilibrate: on, min_scale = 1.0e-4, max_scale = 1.0e4\n",
      "               max iter = 10\n",
      "\n",
      "iter    pcost        dcost       gap       pres      dres      k/t        μ       step      \n",
      "---------------------------------------------------------------------------------------------\n",
      "  0  +1.5855e+03  -5.0516e+03  4.19e+00  8.61e-01  7.21e-17  1.00e+00  1.58e+00   ------   \n",
      "  1  +1.4757e+03  -1.4344e+02  1.13e+01  5.79e-01  1.32e-16  1.22e+00  1.10e+00  7.80e-01  \n",
      "  2  +1.4270e+03  +5.5561e+02  1.57e+00  3.96e-01  1.93e-16  1.60e+00  9.06e-01  3.35e-01  \n",
      "  3  +1.4172e+03  +1.0478e+03  3.53e-01  2.03e-01  2.14e-16  1.28e+00  5.76e-01  6.60e-01  \n",
      "  4  +1.4196e+03  +1.3303e+03  6.71e-02  5.39e-02  3.15e-16  3.62e-01  1.88e-01  7.82e-01  \n",
      "  5  +1.4167e+03  +1.3858e+03  2.23e-02  1.84e-02  2.41e-16  8.34e-02  7.03e-02  7.87e-01  \n",
      "  6  +1.4153e+03  +1.4032e+03  8.64e-03  7.09e-03  2.19e-16  2.81e-02  2.84e-02  6.58e-01  \n",
      "  7  +1.4148e+03  +1.4083e+03  4.56e-03  3.71e-03  2.38e-16  1.37e-02  1.52e-02  5.09e-01  \n",
      "  8  +1.4144e+03  +1.4118e+03  1.82e-03  1.46e-03  3.11e-16  3.80e-03  6.13e-03  7.24e-01  \n",
      "  9  +1.4142e+03  +1.4129e+03  8.96e-04  7.14e-04  2.28e-16  1.25e-03  3.03e-03  6.73e-01  \n",
      " 10  +1.4141e+03  +1.4136e+03  3.94e-04  3.12e-04  2.67e-16  3.42e-04  1.33e-03  7.31e-01  \n",
      " 11  +1.4141e+03  +1.4138e+03  1.77e-04  1.39e-04  2.77e-16  9.07e-05  5.99e-04  7.42e-01  \n",
      " 12  +1.4141e+03  +1.4139e+03  8.67e-05  6.82e-05  3.11e-16  2.40e-05  2.94e-04  7.52e-01  \n",
      " 13  +1.4141e+03  +1.4140e+03  5.32e-05  4.18e-05  2.67e-16  1.36e-05  1.80e-04  4.37e-01  \n",
      " 14  +1.4140e+03  +1.4140e+03  1.65e-05  1.29e-05  2.96e-16  6.73e-07  5.58e-05  9.90e-01  \n",
      " 15  +1.4140e+03  +1.4140e+03  7.27e-06  5.71e-06  3.72e-16  2.53e-07  2.47e-05  9.31e-01  \n",
      " 16  +1.4140e+03  +1.4140e+03  3.67e-06  2.88e-06  3.03e-16  1.24e-07  1.25e-05  9.90e-01  \n",
      " 17  +1.4140e+03  +1.4140e+03  1.03e-06  8.06e-07  2.43e-16  3.45e-08  3.48e-06  7.33e-01  \n",
      " 18  +1.4140e+03  +1.4140e+03  5.07e-08  3.98e-08  2.47e-16  1.70e-09  1.72e-07  9.90e-01  \n",
      " 19  +1.4140e+03  +1.4140e+03  5.11e-10  4.01e-10  2.43e-16  1.72e-11  1.73e-09  9.90e-01  \n",
      "---------------------------------------------------------------------------------------------\n",
      "Terminated with status = Solved\n",
      "solve time = 352.7386ms\n",
      "-------------------------------------------------------------------------------\n",
      "                                    Summary                                    \n",
      "-------------------------------------------------------------------------------\n",
      "(CVXPY) Jan 16 11:43:47 AM: Problem status: optimal\n",
      "(CVXPY) Jan 16 11:43:47 AM: Optimal value: 1.414e+03\n",
      "(CVXPY) Jan 16 11:43:47 AM: Compilation took 8.645e+01 seconds\n",
      "(CVXPY) Jan 16 11:43:47 AM: Solver (including time spent in interface) took 3.895e-01 seconds\n",
      "All Connection:  1414.0397935541362\n",
      "1414.0397935541362\n",
      "(100, 457)\n"
     ]
    }
   ],
   "source": [
    "optimal_cost, action_mask  = offline_solver(price_all_loc, water_all_loc, carbon_all_loc, workload_trace, mask_array, num_ins, verbose=True, l_1 = 0, l_2 = 0, f_type = \"AVG\")\n",
    "print(\"All Connection: \", optimal_cost)\n",
    "\n",
    "data_dict_mp = {\"Name\": \"Min Price\",\n",
    "                \"Total_Cost\": optimal_cost,\n",
    "                \"Action\": action_mask}\n",
    "print(optimal_cost)\n",
    "print(action_mask.shape)"
   ]
  },
  {
   "cell_type": "code",
   "execution_count": 11,
   "id": "591dd422-e8b7-4bdb-8203-5297a0271997",
   "metadata": {},
   "outputs": [],
   "source": [
    "with open('output/result_min_price.pkl', 'wb') as handle:\n",
    "    pickle.dump(data_dict_mp, handle, protocol=pickle.HIGHEST_PROTOCOL)"
   ]
  },
  {
   "cell_type": "markdown",
   "id": "0b7dc4ea-8b6d-4cd7-894b-bd6218f2aac0",
   "metadata": {
    "tags": []
   },
   "source": [
    "### 2.4 Price plus Carbon"
   ]
  },
  {
   "cell_type": "code",
   "execution_count": 12,
   "id": "d3edd02b-0b14-4a7b-900e-f05084677ebe",
   "metadata": {
    "tags": []
   },
   "outputs": [
    {
     "name": "stdout",
     "output_type": "stream",
     "text": [
      "Start Solving...\n",
      "===============================================================================\n",
      "                                     CVXPY                                     \n",
      "                                    v1.1.18                                    \n",
      "===============================================================================\n",
      "(CVXPY) Jun 26 06:46:59 PM: Your problem has 45700 variables, 54840 constraints, and 0 parameters.\n",
      "(CVXPY) Jun 26 06:47:00 PM: It is compliant with the following grammars: DCP, DQCP\n",
      "(CVXPY) Jun 26 06:47:00 PM: (If you need to solve this problem multiple times, but with different data, consider using parameters.)\n",
      "(CVXPY) Jun 26 06:47:00 PM: CVXPY will first compile your problem; then, it will invoke a numerical solver to obtain a solution.\n",
      "-------------------------------------------------------------------------------\n",
      "                                  Compilation                                  \n",
      "-------------------------------------------------------------------------------\n",
      "(CVXPY) Jun 26 06:47:02 PM: Compiling problem (target solver=ECOS).\n",
      "(CVXPY) Jun 26 06:47:02 PM: Reduction chain: Dcp2Cone -> CvxAttr2Constr -> ConeMatrixStuffing -> ECOS\n",
      "(CVXPY) Jun 26 06:47:02 PM: Applying reduction Dcp2Cone\n",
      "(CVXPY) Jun 26 06:47:05 PM: Applying reduction CvxAttr2Constr\n",
      "(CVXPY) Jun 26 06:47:05 PM: Applying reduction ConeMatrixStuffing\n",
      "(CVXPY) Jun 26 06:48:19 PM: Applying reduction ECOS\n",
      "(CVXPY) Jun 26 06:48:32 PM: Finished problem compilation (took 9.226e+01 seconds).\n",
      "-------------------------------------------------------------------------------\n",
      "                                Numerical solver                               \n",
      "-------------------------------------------------------------------------------\n",
      "(CVXPY) Jun 26 06:48:32 PM: Invoking solver ECOS  to obtain a solution.\n",
      "-------------------------------------------------------------------------------\n",
      "                                    Summary                                    \n",
      "-------------------------------------------------------------------------------\n",
      "(CVXPY) Jun 26 06:48:34 PM: Problem status: optimal\n",
      "(CVXPY) Jun 26 06:48:34 PM: Optimal value: 9.140e+05\n",
      "(CVXPY) Jun 26 06:48:34 PM: Compilation took 9.226e+01 seconds\n",
      "(CVXPY) Jun 26 06:48:34 PM: Solver (including time spent in interface) took 2.533e-01 seconds\n",
      "All Connection:  914038.1375558949\n",
      "914038.1375558949\n",
      "(100, 457)\n"
     ]
    }
   ],
   "source": [
    "# Minimize the average price and carbon\n",
    "optimal_cost, action_mask  = offline_solver(price_all_loc, water_all_loc, carbon_all_loc, workload_trace, mask_array, num_ins, verbose=True, l_1 = 0, l_2 = l_2*4, f_type = \"AVG\")\n",
    "print(\"All Connection: \", optimal_cost)\n",
    "\n",
    "data_dict_pc = {\"Name\": \"Price and Carbon\",\n",
    "                \"Total_Cost\": optimal_cost,\n",
    "                \"Action\": action_mask}\n",
    "print(optimal_cost)\n",
    "print(action_mask.shape)"
   ]
  },
  {
   "cell_type": "code",
   "execution_count": 13,
   "id": "0142e1ed-eb81-49d4-8582-60349701da24",
   "metadata": {},
   "outputs": [],
   "source": [
    "with open('output/result_price_carbon.pkl', 'wb') as handle:\n",
    "    pickle.dump(data_dict_pc, handle, protocol=pickle.HIGHEST_PROTOCOL)"
   ]
  },
  {
   "cell_type": "markdown",
   "id": "1ca4be22-79f2-47f4-8a60-73a0a59bfaac",
   "metadata": {
    "tags": []
   },
   "source": [
    "### 2.5 Total Cost Minimize"
   ]
  },
  {
   "cell_type": "code",
   "execution_count": 14,
   "id": "9a6e62a1-d065-4d08-b52a-59a649229a4a",
   "metadata": {},
   "outputs": [
    {
     "name": "stdout",
     "output_type": "stream",
     "text": [
      "Start Solving...\n",
      "===============================================================================\n",
      "                                     CVXPY                                     \n",
      "                                    v1.1.18                                    \n",
      "===============================================================================\n",
      "(CVXPY) Jun 26 06:48:39 PM: Your problem has 45700 variables, 54840 constraints, and 0 parameters.\n",
      "(CVXPY) Jun 26 06:48:40 PM: It is compliant with the following grammars: DCP, DQCP\n",
      "(CVXPY) Jun 26 06:48:40 PM: (If you need to solve this problem multiple times, but with different data, consider using parameters.)\n",
      "(CVXPY) Jun 26 06:48:40 PM: CVXPY will first compile your problem; then, it will invoke a numerical solver to obtain a solution.\n",
      "-------------------------------------------------------------------------------\n",
      "                                  Compilation                                  \n",
      "-------------------------------------------------------------------------------\n",
      "(CVXPY) Jun 26 06:48:42 PM: Compiling problem (target solver=ECOS).\n",
      "(CVXPY) Jun 26 06:48:42 PM: Reduction chain: Dcp2Cone -> CvxAttr2Constr -> ConeMatrixStuffing -> ECOS\n",
      "(CVXPY) Jun 26 06:48:42 PM: Applying reduction Dcp2Cone\n",
      "(CVXPY) Jun 26 06:48:45 PM: Applying reduction CvxAttr2Constr\n",
      "(CVXPY) Jun 26 06:48:45 PM: Applying reduction ConeMatrixStuffing\n",
      "(CVXPY) Jun 26 06:49:59 PM: Applying reduction ECOS\n",
      "(CVXPY) Jun 26 06:50:13 PM: Finished problem compilation (took 9.281e+01 seconds).\n",
      "-------------------------------------------------------------------------------\n",
      "                                Numerical solver                               \n",
      "-------------------------------------------------------------------------------\n",
      "(CVXPY) Jun 26 06:50:13 PM: Invoking solver ECOS  to obtain a solution.\n",
      "-------------------------------------------------------------------------------\n",
      "                                    Summary                                    \n",
      "-------------------------------------------------------------------------------\n",
      "(CVXPY) Jun 26 06:50:14 PM: Problem status: optimal\n",
      "(CVXPY) Jun 26 06:50:14 PM: Optimal value: 1.047e+06\n",
      "(CVXPY) Jun 26 06:50:14 PM: Compilation took 9.281e+01 seconds\n",
      "(CVXPY) Jun 26 06:50:14 PM: Solver (including time spent in interface) took 2.512e-01 seconds\n",
      "All Connection:  1046974.2126152215\n",
      "1046974.2126152215\n",
      "(100, 457)\n"
     ]
    }
   ],
   "source": [
    "# Minimize the average of total cost (price + water + carbon)\n",
    "optimal_cost, action_mask  = offline_solver(price_all_loc, water_all_loc, carbon_all_loc, workload_trace, mask_array, num_ins, verbose=True, l_1 = l_1*5, l_2 = l_2*2, f_type = \"AVG\")\n",
    "print(\"All Connection: \", optimal_cost)\n",
    "\n",
    "data_dict_tc = {\"Name\": \"Total Cost\",\n",
    "                \"Total_Cost\": deepcopy(optimal_cost),\n",
    "                \"Action\": action_mask}\n",
    "print(optimal_cost)\n",
    "print(action_mask.shape)"
   ]
  },
  {
   "cell_type": "code",
   "execution_count": 15,
   "id": "33ce339d-2ae9-4611-817d-1cd3633d90dc",
   "metadata": {},
   "outputs": [],
   "source": [
    "with open('output/result_total_cost.pkl', 'wb') as handle:\n",
    "    pickle.dump(data_dict_tc, handle, protocol=pickle.HIGHEST_PROTOCOL)"
   ]
  },
  {
   "cell_type": "markdown",
   "id": "6080c88f-f27b-4996-b035-471e26b21c6b",
   "metadata": {
    "tags": []
   },
   "source": [
    "### 2.6 Pure Water"
   ]
  },
  {
   "cell_type": "code",
   "execution_count": 16,
   "id": "c03602da-899e-48bb-9444-13f762d675a2",
   "metadata": {},
   "outputs": [
    {
     "name": "stdout",
     "output_type": "stream",
     "text": [
      "Start Solving...\n",
      "===============================================================================\n",
      "                                     CVXPY                                     \n",
      "                                    v1.1.18                                    \n",
      "===============================================================================\n",
      "(CVXPY) Jun 26 06:50:19 PM: Your problem has 45700 variables, 54840 constraints, and 0 parameters.\n",
      "(CVXPY) Jun 26 06:50:21 PM: It is compliant with the following grammars: DCP, DQCP\n",
      "(CVXPY) Jun 26 06:50:21 PM: (If you need to solve this problem multiple times, but with different data, consider using parameters.)\n",
      "(CVXPY) Jun 26 06:50:21 PM: CVXPY will first compile your problem; then, it will invoke a numerical solver to obtain a solution.\n",
      "-------------------------------------------------------------------------------\n",
      "                                  Compilation                                  \n",
      "-------------------------------------------------------------------------------\n",
      "(CVXPY) Jun 26 06:50:22 PM: Compiling problem (target solver=ECOS).\n",
      "(CVXPY) Jun 26 06:50:22 PM: Reduction chain: Dcp2Cone -> CvxAttr2Constr -> ConeMatrixStuffing -> ECOS\n",
      "(CVXPY) Jun 26 06:50:22 PM: Applying reduction Dcp2Cone\n",
      "(CVXPY) Jun 26 06:50:26 PM: Applying reduction CvxAttr2Constr\n",
      "(CVXPY) Jun 26 06:50:26 PM: Applying reduction ConeMatrixStuffing\n",
      "(CVXPY) Jun 26 06:51:40 PM: Applying reduction ECOS\n",
      "(CVXPY) Jun 26 06:51:53 PM: Finished problem compilation (took 9.241e+01 seconds).\n",
      "-------------------------------------------------------------------------------\n",
      "                                Numerical solver                               \n",
      "-------------------------------------------------------------------------------\n",
      "(CVXPY) Jun 26 06:51:53 PM: Invoking solver ECOS  to obtain a solution.\n",
      "-------------------------------------------------------------------------------\n",
      "                                    Summary                                    \n",
      "-------------------------------------------------------------------------------\n",
      "(CVXPY) Jun 26 06:51:54 PM: Problem status: optimal\n",
      "(CVXPY) Jun 26 06:51:54 PM: Optimal value: 7.463e+04\n",
      "(CVXPY) Jun 26 06:51:54 PM: Compilation took 9.241e+01 seconds\n",
      "(CVXPY) Jun 26 06:51:54 PM: Solver (including time spent in interface) took 2.120e-01 seconds\n",
      "All Connection:  74634.83688514176\n",
      "74634.83688514176\n",
      "(100, 457)\n"
     ]
    }
   ],
   "source": [
    "# Only minimize the water consumption\n",
    "optimal_cost, action_mask  = offline_solver(price_all_loc, water_all_loc, carbon_all_loc, workload_trace, mask_array, num_ins, verbose=True, l_0 = 0, l_1 = l_1, l_2 = 0, f_type = \"AVG\")\n",
    "print(\"All Connection: \", optimal_cost)\n",
    "\n",
    "data_dict_pw = {\"Name\": \"Pure Water\",\n",
    "                \"Total_Cost\": optimal_cost,\n",
    "                \"Action\": action_mask}\n",
    "print(optimal_cost)\n",
    "print(action_mask.shape)"
   ]
  },
  {
   "cell_type": "code",
   "execution_count": 17,
   "id": "568add6c-fdc9-4582-9cbd-0b4f954f2165",
   "metadata": {},
   "outputs": [],
   "source": [
    "with open('output/result_pure_water.pkl', 'wb') as handle:\n",
    "    pickle.dump(data_dict_pw, handle, protocol=pickle.HIGHEST_PROTOCOL)"
   ]
  },
  {
   "cell_type": "markdown",
   "id": "5c116286-cd87-492a-992e-88263690c608",
   "metadata": {
    "tags": []
   },
   "source": [
    "### 2.7 Pure Carbon"
   ]
  },
  {
   "cell_type": "code",
   "execution_count": 18,
   "id": "fe8486e1-74f5-4f6c-8dec-103e0929dd77",
   "metadata": {},
   "outputs": [
    {
     "name": "stdout",
     "output_type": "stream",
     "text": [
      "Start Solving...\n",
      "===============================================================================\n",
      "                                     CVXPY                                     \n",
      "                                    v1.1.18                                    \n",
      "===============================================================================\n",
      "(CVXPY) Jun 26 06:51:59 PM: Your problem has 45700 variables, 54840 constraints, and 0 parameters.\n",
      "(CVXPY) Jun 26 06:52:01 PM: It is compliant with the following grammars: DCP, DQCP\n",
      "(CVXPY) Jun 26 06:52:01 PM: (If you need to solve this problem multiple times, but with different data, consider using parameters.)\n",
      "(CVXPY) Jun 26 06:52:01 PM: CVXPY will first compile your problem; then, it will invoke a numerical solver to obtain a solution.\n",
      "-------------------------------------------------------------------------------\n",
      "                                  Compilation                                  \n",
      "-------------------------------------------------------------------------------\n",
      "(CVXPY) Jun 26 06:52:03 PM: Compiling problem (target solver=ECOS).\n",
      "(CVXPY) Jun 26 06:52:03 PM: Reduction chain: Dcp2Cone -> CvxAttr2Constr -> ConeMatrixStuffing -> ECOS\n",
      "(CVXPY) Jun 26 06:52:03 PM: Applying reduction Dcp2Cone\n",
      "(CVXPY) Jun 26 06:52:06 PM: Applying reduction CvxAttr2Constr\n",
      "(CVXPY) Jun 26 06:52:06 PM: Applying reduction ConeMatrixStuffing\n",
      "(CVXPY) Jun 26 06:53:21 PM: Applying reduction ECOS\n",
      "(CVXPY) Jun 26 06:53:34 PM: Finished problem compilation (took 9.265e+01 seconds).\n",
      "-------------------------------------------------------------------------------\n",
      "                                Numerical solver                               \n",
      "-------------------------------------------------------------------------------\n",
      "(CVXPY) Jun 26 06:53:34 PM: Invoking solver ECOS  to obtain a solution.\n",
      "-------------------------------------------------------------------------------\n",
      "                                    Summary                                    \n",
      "-------------------------------------------------------------------------------\n",
      "(CVXPY) Jun 26 06:53:35 PM: Problem status: optimal\n",
      "(CVXPY) Jun 26 06:53:35 PM: Optimal value: 1.396e+05\n",
      "(CVXPY) Jun 26 06:53:35 PM: Compilation took 9.265e+01 seconds\n",
      "(CVXPY) Jun 26 06:53:35 PM: Solver (including time spent in interface) took 2.129e-01 seconds\n",
      "All Connection:  139600.80130509293\n",
      "139600.80130509293\n",
      "(100, 457)\n"
     ]
    }
   ],
   "source": [
    "# Only minimize the carbon emission\n",
    "optimal_cost, action_mask  = offline_solver(price_all_loc, water_all_loc, carbon_all_loc, workload_trace, mask_array, num_ins, verbose=True, l_0 = 0, l_1 = 0, l_2 = l_2, f_type = \"AVG\")\n",
    "print(\"All Connection: \", optimal_cost)\n",
    "\n",
    "data_dict_pc = {\"Name\": \"Pure Carbon\",\n",
    "                \"Total_Cost\": optimal_cost,\n",
    "                \"Action\": action_mask}\n",
    "print(optimal_cost)\n",
    "print(action_mask.shape)"
   ]
  },
  {
   "cell_type": "code",
   "execution_count": 19,
   "id": "f89336ad-5518-428b-bee5-ceddce524a98",
   "metadata": {},
   "outputs": [],
   "source": [
    "with open('output/result_pure_carbon_2.pkl', 'wb') as handle:\n",
    "    pickle.dump(data_dict_pc, handle, protocol=pickle.HIGHEST_PROTOCOL)"
   ]
  },
  {
   "cell_type": "markdown",
   "id": "2f680ed3-49d8-4c5b-80b1-bf199664b700",
   "metadata": {
    "tags": []
   },
   "source": [
    "## 3. Final Evaluation"
   ]
  },
  {
   "cell_type": "code",
   "execution_count": 20,
   "id": "05ac28d6-c0af-4e3d-992b-e3f54eb7eaa9",
   "metadata": {
    "tags": []
   },
   "outputs": [
    {
     "name": "stdout",
     "output_type": "stream",
     "text": [
      "-------\n",
      "Closest Connection\n",
      "-------\n",
      "33669.45105842025\n",
      "59253.78319315321\n",
      "1432.792210790843\n",
      "1818.734618500509\n",
      "104.91162881039315\n",
      "118.5618431881312\n",
      "**************************************************\n",
      "-------\n",
      "Equitable\n",
      "-------\n",
      "33669.45105842025\n",
      "59253.78319315321\n",
      "1432.792210790843\n",
      "1818.734618500509\n",
      "104.91162881039315\n",
      "118.5618431881312\n",
      "**************************************************\n",
      "-------\n",
      "Min Price\n",
      "-------\n",
      "29169.8606287178\n",
      "42327.51158875257\n",
      "1525.069250911699\n",
      "2607.499995942185\n",
      "108.714105315913\n",
      "182.1356032921319\n",
      "**************************************************\n",
      "-------\n",
      "Price and Carbon\n",
      "-------\n",
      "31272.43697395047\n",
      "70779.11182583393\n",
      "1467.7833974742239\n",
      "2669.609162962292\n",
      "100.21896130273169\n",
      "175.56486541730902\n",
      "**************************************************\n",
      "-------\n",
      "Total Cost\n",
      "-------\n",
      "31473.60117948522\n",
      "64842.2236301698\n",
      "1429.4631562176683\n",
      "2566.60363884651\n",
      "101.13308465168961\n",
      "179.172750240521\n",
      "**************************************************\n"
     ]
    }
   ],
   "source": [
    "file_list = [\"result_closest_connect.pkl\", \"result_equitable.pkl\", \"result_min_price.pkl\", \"result_price_carbon.pkl\", \"result_total_cost.pkl\"]\n",
    "\n",
    "for path in file_list:\n",
    "    with open('output/' + path, \"rb\") as handle:\n",
    "        current_dict = pickle.load(handle)\n",
    "                                   \n",
    "    optimal_cost  = current_dict[\"Total_Cost\"]\n",
    "    action_mask   = current_dict[\"Action\"].reshape([10,10,-1])\n",
    "\n",
    "    price_res   = evaluate_single(action_mask, price_all_loc)\n",
    "    water_res   = evaluate_single(action_mask, water_all_loc)\n",
    "    carbon_res  = evaluate_single(action_mask, carbon_all_loc)\n",
    "\n",
    "    print(\"-------\")\n",
    "    print(current_dict[\"Name\"])\n",
    "    print(\"-------\")\n",
    "    \n",
    "    # Mean and max of electricity price\n",
    "    print(np.mean(price_res))\n",
    "    print(np.max(price_res))\n",
    "    \n",
    "    # Mean and max of water consumption\n",
    "    print(np.mean(water_res))\n",
    "    print(np.max(water_res))\n",
    "    \n",
    "    # Mean and max of carbon emission\n",
    "    print(np.mean(carbon_res))\n",
    "    print(np.max(carbon_res))\n",
    "\n",
    "    print(\"*\"*50)"
   ]
  },
  {
   "cell_type": "code",
   "execution_count": null,
   "id": "cbc6f7b2-4df5-41e8-9633-791ee56d0cf8",
   "metadata": {},
   "outputs": [],
   "source": []
  }
 ],
 "metadata": {
  "kernelspec": {
   "display_name": "Python 3",
   "language": "python",
   "name": "python3"
  },
  "language_info": {
   "codemirror_mode": {
    "name": "ipython",
    "version": 3
   },
   "file_extension": ".py",
   "mimetype": "text/x-python",
   "name": "python",
   "nbconvert_exporter": "python",
   "pygments_lexer": "ipython3",
   "version": "3.11.2"
  }
 },
 "nbformat": 4,
 "nbformat_minor": 5
}
