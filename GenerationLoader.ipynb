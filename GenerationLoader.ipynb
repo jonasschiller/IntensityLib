{
 "cells": [
  {
   "cell_type": "code",
   "execution_count": 1,
   "metadata": {},
   "outputs": [],
   "source": [
    "import pandas as pd\n",
    "import helper.entsoe_wrapper as entsoe_wrapper\n",
    "import helper.intensity as its\n",
    "import matplotlib.pyplot as plt\n",
    "from sklearn import preprocessing\n",
    "from sklearn.model_selection import KFold\n",
    "from sklearn.linear_model import LinearRegression\n",
    "import numpy as np\n",
    "import os\n",
    "from entsoe import EntsoePandasClient\n",
    "countryCodes=[\"AT\",\"PT\",\"ES\",\"FR\",\"IT\",\"GR\",\"ME\",\"BG\",\"RO\",\"RS\",\"HU\",\"SK\",\"SI\",\"CZ\",\"BE\",\"NL\",\"EE\",\"LV\",\"LT\",\"FI\",\"NO\",\"SE\",\"DK\",\"PL\",\"DE\",\"IE\"]\n",
    "start=pd.Timestamp('2022-01-01', tz='UTC')\n",
    "end=pd.Timestamp('2023-01-01', tz='UTC')"
   ]
  },
  {
   "cell_type": "code",
   "execution_count": 2,
   "metadata": {},
   "outputs": [
    {
     "name": "stdout",
     "output_type": "stream",
     "text": [
      "Getting data for: AT\n",
      "Number of missing values: 0\n",
      "Getting data for: PT\n",
      "Number of missing values: 0\n",
      "Getting data for: ES\n",
      "Number of missing values: 0\n",
      "Getting data for: FR\n",
      "Number of missing values: 0\n",
      "Getting data for: IT\n",
      "Number of missing values: 0\n",
      "Getting data for: GR\n",
      "Number of missing values: 10\n",
      "Getting data for: ME\n",
      "Number of missing values: 260\n",
      "Getting data for: BG\n",
      "Number of missing values: 149\n",
      "Getting data for: RO\n",
      "Number of missing values: 0\n",
      "Getting data for: RS\n",
      "Number of missing values: 48\n",
      "Getting data for: HU\n",
      "Number of missing values: 0\n",
      "Getting data for: SK\n",
      "Number of missing values: 0\n",
      "Getting data for: SI\n",
      "Number of missing values: 0\n",
      "Getting data for: CZ\n",
      "Number of missing values: 0\n",
      "Getting data for: BE\n",
      "Number of missing values: 0\n",
      "Getting data for: NL\n",
      "Number of missing values: 0\n",
      "Getting data for: EE\n",
      "Number of missing values: 9\n",
      "Getting data for: LV\n",
      "Number of missing values: 0\n",
      "Getting data for: LT\n",
      "Number of missing values: 0\n",
      "Getting data for: FI\n",
      "Number of missing values: 0\n",
      "Getting data for: NO\n",
      "Number of missing values: 16\n",
      "Getting data for: SE\n",
      "finally\n",
      "finally\n",
      "Number of missing values: 0\n",
      "Getting data for: DK\n",
      "Number of missing values: 11\n",
      "Getting data for: PL\n",
      "Number of missing values: 0\n",
      "Getting data for: DE\n",
      "Number of missing values: 0\n",
      "Getting data for: IE\n",
      "Number of missing values: 0\n"
     ]
    }
   ],
   "source": [
    "for country in countryCodes:\n",
    "    print(\"Getting data for: \"+country)\n",
    "    data=entsoe_wrapper.get_generation_data(country,start,end)\n",
    "    print(\"Number of missing values: \"+str(data.isnull().sum().sum())) "
   ]
  },
  {
   "cell_type": "code",
   "execution_count": 3,
   "metadata": {},
   "outputs": [
    {
     "data": {
      "text/plain": [
       "<Axes: >"
      ]
     },
     "execution_count": 3,
     "metadata": {},
     "output_type": "execute_result"
    },
    {
     "data": {
      "image/png": "[encoded data removed]",
      "text/plain": [
       "<Figure size 640x480 with 1 Axes>"
      ]
     },
     "metadata": {},
     "output_type": "display_data"
    }
   ],
   "source": [
    "entsoe_wrapper.get_generation_data(\"SE\",start,end)[\"Marine\"].plot()"
   ]
  },
  {
   "cell_type": "code",
   "execution_count": 5,
   "metadata": {},
   "outputs": [],
   "source": [
    "API_KEY=\"96ebcf8b-a543-4309-b167-322d5e0d5684\"\n",
    "client=EntsoePandasClient(api_key=API_KEY)\n",
    "country=\"HU\"\n",
    "year=2022\n",
    "dataset=client.query_generation(country, start=pd.Timestamp(str(year) + \"-01-01\",tz=\"UTC\"), end=pd.Timestamp(str(year+1) + \"-01-01\",tz=\"UTC\"))"
   ]
  },
  {
   "cell_type": "code",
   "execution_count": 6,
   "metadata": {},
   "outputs": [
    {
     "data": {
      "text/plain": [
       "MultiIndex([(                        'Biomass',  'Actual Aggregated'),\n",
       "            (      'Fossil Brown coal/Lignite',  'Actual Aggregated'),\n",
       "            (                     'Fossil Gas',  'Actual Aggregated'),\n",
       "            (               'Fossil Hard coal',  'Actual Aggregated'),\n",
       "            (                     'Fossil Oil',  'Actual Aggregated'),\n",
       "            (                     'Fossil Oil', 'Actual Consumption'),\n",
       "            (                     'Geothermal',  'Actual Aggregated'),\n",
       "            ('Hydro Run-of-river and poundage',  'Actual Aggregated'),\n",
       "            (          'Hydro Water Reservoir',  'Actual Aggregated'),\n",
       "            (          'Hydro Water Reservoir', 'Actual Consumption'),\n",
       "            (                        'Nuclear',  'Actual Aggregated'),\n",
       "            (                          'Other',  'Actual Aggregated'),\n",
       "            (                'Other renewable',  'Actual Aggregated'),\n",
       "            (                          'Solar',  'Actual Aggregated'),\n",
       "            (                          'Waste',  'Actual Aggregated'),\n",
       "            (                   'Wind Onshore',  'Actual Aggregated')],\n",
       "           )"
      ]
     },
     "execution_count": 6,
     "metadata": {},
     "output_type": "execute_result"
    }
   ],
   "source": [
    "dataset.columns"
   ]
  },
  {
   "cell_type": "code",
   "execution_count": null,
   "metadata": {},
   "outputs": [],
   "source": []
  }
 ],
 "metadata": {
  "kernelspec": {
   "display_name": "Python 3",
   "language": "python",
   "name": "python3"
  },
  "language_info": {
   "codemirror_mode": {
    "name": "ipython",
    "version": 3
   },
   "file_extension": ".py",
   "mimetype": "text/x-python",
   "name": "python",
   "nbconvert_exporter": "python",
   "pygments_lexer": "ipython3",
   "version": "3.11.2"
  }
 },
 "nbformat": 4,
 "nbformat_minor": 2
}
