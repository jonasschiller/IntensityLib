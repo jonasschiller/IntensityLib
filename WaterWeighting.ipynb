{
 "cells": [
  {
   "cell_type": "code",
   "execution_count": 1,
   "metadata": {},
   "outputs": [],
   "source": [
    "import xarray as xr\n",
    "import reverse_geocoder as rg\n",
    "from tqdm import tqdm\n",
    "import pandas as pd\n",
    "import itertools\n",
    "import numpy as np\n",
    "import pandas as pd\n",
    "from scipy.spatial import distance\n",
    "import matplotlib.pyplot as plt\n",
    "import pickle as pkl\n",
    "import helper.drought as dr\n",
    "import helper.intensity as its"
   ]
  },
  {
   "cell_type": "code",
   "execution_count": 8,
   "metadata": {},
   "outputs": [],
   "source": [
    "country_list   = [\"DE\",\"IE\", \"PL\", \"ES\", \"AT\", \"BE\", \"NL\", \"FR\", \"IT\", \"SE\"]\n",
    "datacenter_loc={\"DE\":(50.110924,8.682127),\"FR\":(48.856667,2.351667),\"IE\":(53.35,-6.26),\"IT\":(45.4625,9.1864),\n",
    "                \"NL\":(52.3702,4.8904),\"PL\":(52.2167,21.0333),\"ES\":(40.412,-3.7039),\n",
    "                \"SE\":(59.325,18.05),\"BE\":(50.8466,4.3517),\"AT\":(48.2083,16.3731)}\n",
    "start=pd.to_datetime(\"2022-01-01\",utc=True)\n",
    "end=pd.to_datetime(\"2023-01-01\",utc=True)"
   ]
  },
  {
   "cell_type": "markdown",
   "metadata": {},
   "source": [
    "### Load the Water Exploitation Index of the EU"
   ]
  },
  {
   "cell_type": "code",
   "execution_count": 9,
   "metadata": {},
   "outputs": [
    {
     "name": "stdout",
     "output_type": "stream",
     "text": [
      "Loading existing file\n"
     ]
    },
    {
     "name": "stderr",
     "output_type": "stream",
     "text": [
      "100%|██████████| 10/10 [00:04<00:00,  2.10it/s]\n"
     ]
    },
    {
     "data": {
      "text/plain": [
       "2022-01-01 00:00:00+00:00    0.679793\n",
       "2022-01-01 01:00:00+00:00    0.679793\n",
       "2022-01-01 02:00:00+00:00    0.679793\n",
       "2022-01-01 03:00:00+00:00    0.679793\n",
       "2022-01-01 04:00:00+00:00    0.679793\n",
       "                               ...   \n",
       "2022-12-31 20:00:00+00:00    2.282309\n",
       "2022-12-31 21:00:00+00:00    2.282309\n",
       "2022-12-31 22:00:00+00:00    2.282309\n",
       "2022-12-31 23:00:00+00:00    2.282309\n",
       "2023-01-01 00:00:00+00:00    2.282309\n",
       "Freq: h, Name: DE, Length: 8761, dtype: float64"
      ]
     },
     "execution_count": 9,
     "metadata": {},
     "output_type": "execute_result"
    }
   ],
   "source": [
    "dr.load_water_weight(\"DE\")"
   ]
  },
  {
   "cell_type": "code",
   "execution_count": 10,
   "metadata": {},
   "outputs": [
    {
     "data": {
      "text/plain": [
       "2022-01-01 00:00:00+00:00    0.773196\n",
       "2022-01-01 01:00:00+00:00    0.787366\n",
       "2022-01-01 02:00:00+00:00    0.803062\n",
       "2022-01-01 03:00:00+00:00    0.823182\n",
       "2022-01-01 04:00:00+00:00    0.862831\n",
       "                               ...   \n",
       "2022-12-31 20:00:00+00:00    0.687871\n",
       "2022-12-31 21:00:00+00:00    0.680803\n",
       "2022-12-31 22:00:00+00:00    0.676481\n",
       "2022-12-31 23:00:00+00:00    0.680163\n",
       "2023-01-01 00:00:00+00:00    0.701357\n",
       "Freq: h, Length: 8761, dtype: float64"
      ]
     },
     "execution_count": 10,
     "metadata": {},
     "output_type": "execute_result"
    }
   ],
   "source": [
    "its.get_average_intensity(\"DE\",start,end,True,False)"
   ]
  },
  {
   "cell_type": "code",
   "execution_count": 11,
   "metadata": {},
   "outputs": [
    {
     "name": "stdout",
     "output_type": "stream",
     "text": [
      "Loading existing file\n"
     ]
    },
    {
     "name": "stderr",
     "output_type": "stream",
     "text": [
      "100%|██████████| 10/10 [00:06<00:00,  1.48it/s]\n"
     ]
    },
    {
     "data": {
      "text/plain": [
       "2022-01-01 00:00:00+00:00    0.525614\n",
       "2022-01-01 01:00:00+00:00    0.535246\n",
       "2022-01-01 02:00:00+00:00    0.545916\n",
       "2022-01-01 03:00:00+00:00    0.559593\n",
       "2022-01-01 04:00:00+00:00    0.586547\n",
       "                               ...   \n",
       "2022-12-31 20:00:00+00:00    1.569934\n",
       "2022-12-31 21:00:00+00:00    1.553803\n",
       "2022-12-31 22:00:00+00:00    1.543939\n",
       "2022-12-31 23:00:00+00:00    1.552341\n",
       "2023-01-01 00:00:00+00:00    1.600713\n",
       "Freq: h, Length: 8761, dtype: float64"
      ]
     },
     "execution_count": 11,
     "metadata": {},
     "output_type": "execute_result"
    }
   ],
   "source": [
    "its.get_average_intensity(\"DE\", start, end, True,True)"
   ]
  }
 ],
 "metadata": {
  "kernelspec": {
   "display_name": "Python 3",
   "language": "python",
   "name": "python3"
  },
  "language_info": {
   "codemirror_mode": {
    "name": "ipython",
    "version": 3
   },
   "file_extension": ".py",
   "mimetype": "text/x-python",
   "name": "python",
   "nbconvert_exporter": "python",
   "pygments_lexer": "ipython3",
   "version": "3.11.2"
  }
 },
 "nbformat": 4,
 "nbformat_minor": 2
}
