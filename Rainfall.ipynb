{
 "cells": [
  {
   "cell_type": "code",
   "execution_count": 167,
   "metadata": {},
   "outputs": [],
   "source": [
    "import xarray as xr\n",
    "import reverse_geocoder as rg\n",
    "from tqdm import tqdm\n",
    "import pandas as pd\n",
    "import itertools\n",
    "import numpy as np\n",
    "import pandas as pd\n",
    "from scipy.spatial import distance\n",
    "import matplotlib.pyplot as plt\n",
    "import pickle as pkl"
   ]
  },
  {
   "cell_type": "code",
   "execution_count": 147,
   "metadata": {},
   "outputs": [],
   "source": [
    "country_size={\"DE\":357600,\"AT\":83879,\"SE\":450295,\"FR\":543941,\"IT\":301958,\"PL\":312679,\"ES\":498485,\"NL\":41543,\"BE\":30528}"
   ]
  },
  {
   "cell_type": "code",
   "execution_count": 6,
   "metadata": {},
   "outputs": [],
   "source": [
    "data = xr.open_dataset(filename_or_obj=r\"C:\\Daten\\Foschung\\RiskAware\\Data\\Weather\\rainfall\\gpcp_v01r03_daily_d20220101_c20220406.area-subset.72.-12.36.26.nc\", engine='netcdf4')"
   ]
  },
  {
   "cell_type": "code",
   "execution_count": 42,
   "metadata": {},
   "outputs": [
    {
     "name": "stderr",
     "output_type": "stream",
     "text": [
      "100%|██████████| 1443/1443 [2:06:43<00:00,  5.27s/it]     \n"
     ]
    }
   ],
   "source": [
    "# I need the countries that each of the longitude and latidude points belong to\n",
    "# I will use the reverse_geocoder package for this\n",
    "\n",
    "latitudes = data.latitude.values\n",
    "longitudes = data.longitude.values\n",
    "longitudes = [i if i<180 else i-360 for i in longitudes]\n",
    "\n",
    "country={}\n",
    "product=itertools.product(latitudes,longitudes)\n",
    "for i,(lat,lon) in tqdm(enumerate(product),total=len(latitudes)*len(longitudes)):\n",
    "    coordinates = (lat,lon)\n",
    "    results = rg.search(coordinates)\n",
    "\n",
    "    country[coordinates]=results[0]['cc']"
   ]
  },
  {
   "cell_type": "code",
   "execution_count": 64,
   "metadata": {},
   "outputs": [],
   "source": [
    "#get all entries of country where the value == \"DE\"\n",
    "de = {k:v for k,v in country.items() if v==\"DE\"}"
   ]
  },
  {
   "cell_type": "code",
   "execution_count": 168,
   "metadata": {},
   "outputs": [],
   "source": [
    "geocoding=pkl.load(open(r\"country_dict.pkl\",\"rb\"))"
   ]
  },
  {
   "cell_type": "code",
   "execution_count": 169,
   "metadata": {},
   "outputs": [],
   "source": [
    "country_precip={}\n",
    "for i in range(0,31):\n",
    "    if i<9:\n",
    "        day = \"0\"+str(i+1)\n",
    "    else:\n",
    "        day = str(i+1)\n",
    "    data= xr.open_dataset(filename_or_obj=r\"C:\\Daten\\Foschung\\RiskAware\\Data\\Weather\\rainfall\\gpcp_v01r03_daily_d202201\"+day+\"_c20220406.area-subset.72.-12.36.26.nc\", engine='netcdf4')\n",
    "    precip=pd.DataFrame(np.array(data.precip).reshape(37,39),index=latitudes,columns=longitudes)\n",
    "    precip[precip<0]=0\n",
    "    for country in country_size.keys():\n",
    "        country_keys = [k for k,v in geocoding.items() if v==country]\n",
    "        for key in country_keys:\n",
    "            if country not in country_precip.keys():\n",
    "                country_precip[country] = precip.loc[key]*71500*111000*(country_size[country]/(len(country_keys)*71.5*111))\n",
    "            else:\n",
    "                country_precip[country] += precip.loc[key]*71500*111000*(country_size[country]/(len(country_keys)*71.5*111))"
   ]
  },
  {
   "cell_type": "code",
   "execution_count": 170,
   "metadata": {},
   "outputs": [
    {
     "data": {
      "text/plain": [
       "{'DE': np.float32(26808884000000.0),\n",
       " 'AT': np.float32(4464687700000.0),\n",
       " 'SE': np.float32(26253552000000.0),\n",
       " 'FR': np.float32(29337798000000.0),\n",
       " 'IT': np.float32(13553819000000.0),\n",
       " 'PL': np.float32(22366025000000.0),\n",
       " 'ES': np.float32(16993399000000.0),\n",
       " 'NL': np.float32(2932931300000.0),\n",
       " 'BE': np.float32(1971470000000.0)}"
      ]
     },
     "execution_count": 170,
     "metadata": {},
     "output_type": "execute_result"
    }
   ],
   "source": [
    "country_precip"
   ]
  },
  {
   "cell_type": "code",
   "execution_count": 63,
   "metadata": {},
   "outputs": [],
   "source": [
    "# save the country dictionary\n",
    "# as a pickle\n",
    "import pickle\n",
    "with open('country_dict.pkl', 'wb') as f:\n",
    "    pickle.dump(country, f)"
   ]
  }
 ],
 "metadata": {
  "kernelspec": {
   "display_name": "Python 3",
   "language": "python",
   "name": "python3"
  },
  "language_info": {
   "codemirror_mode": {
    "name": "ipython",
    "version": 3
   },
   "file_extension": ".py",
   "mimetype": "text/x-python",
   "name": "python",
   "nbconvert_exporter": "python",
   "pygments_lexer": "ipython3",
   "version": "3.11.2"
  }
 },
 "nbformat": 4,
 "nbformat_minor": 2
}
