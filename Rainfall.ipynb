{
 "cells": [
  {
   "cell_type": "code",
   "execution_count": 1,
   "metadata": {},
   "outputs": [],
   "source": [
    "import xarray as xr\n",
    "import reverse_geocoder as rg\n",
    "from tqdm import tqdm\n",
    "import pandas as pd\n",
    "import itertools\n",
    "import numpy as np\n",
    "import pandas as pd\n",
    "from scipy.spatial import distance\n",
    "import matplotlib.pyplot as plt\n",
    "import pickle as pkl"
   ]
  },
  {
   "cell_type": "code",
   "execution_count": 13,
   "metadata": {},
   "outputs": [],
   "source": [
    "country_size={\"DE\":357600,\"AT\":83879,\"SE\":450295,\"FR\":543941,\"IT\":301958,\"PL\":312679,\"ES\":498485,\"NL\":41543,\"BE\":30528}"
   ]
  },
  {
   "cell_type": "code",
   "execution_count": 14,
   "metadata": {},
   "outputs": [],
   "source": [
    "data=xr.open_dataset(filename_or_obj=r\"C:\\Daten\\Foschung\\RiskAware\\Data\\Weather\\rainfall\\gpcp_v01r03_daily_d20221208.nc\",engine=\"netcdf4\")\n",
    "geocoding=pkl.load(open(r\"country_dict.pkl\",\"rb\"))\n",
    "latitudes = data.latitude.values\n",
    "longitudes = data.longitude.values"
   ]
  },
  {
   "cell_type": "code",
   "execution_count": 15,
   "metadata": {},
   "outputs": [],
   "source": [
    "dates=pd.date_range(start=\"2022-01-01\",end=\"2022-12-31\",freq=\"D\")"
   ]
  },
  {
   "cell_type": "code",
   "execution_count": 25,
   "metadata": {},
   "outputs": [],
   "source": [
    "for date in dates:\n",
    "    date_str = date.strftime('%Y%m%d')\n",
    "    data = xr.open_dataset(f\"C:\\\\Daten\\\\Foschung\\\\RiskAware\\\\Data\\\\Weather\\\\rainfall\\\\gpcp_v01r03_daily_d{date_str}.nc\", engine='netcdf4')\n",
    "    precip = pd.DataFrame(np.array(data.precip).reshape(37, 39), index=latitudes, columns=longitudes)\n",
    "    precip[precip < 0] = 0\n",
    "    country_precip = pd.DataFrame(index=dates, columns=country_size.keys())\n",
    "    \n",
    "    for country in country_size.keys():\n",
    "        country_keys = [k for k, v in geocoding.items() if v == country]\n",
    "        total_precip = 0\n",
    "        \n",
    "        for key in country_keys:\n",
    "            if key[1] < 0:\n",
    "                key = (key[0], key[1] + 360)\n",
    "            total_precip += precip.loc[key] * np.cos(key[0]) * pow(111320, 2) * (country_size[country] / (len(country_keys) * np.cos(key[0]) * pow(111.32, 2)))\n",
    "        \n",
    "        country_precip.loc[date, country] = total_precip"
   ]
  },
  {
   "cell_type": "code",
   "execution_count": 28,
   "metadata": {},
   "outputs": [
    {
     "data": {
      "text/plain": [
       "np.float32(118990090000.0)"
      ]
     },
     "execution_count": 28,
     "metadata": {},
     "output_type": "execute_result"
    }
   ],
   "source": [
    "country_precip.loc[date,country]"
   ]
  },
  {
   "cell_type": "code",
   "execution_count": 63,
   "metadata": {},
   "outputs": [],
   "source": [
    "# save the country dictionary\n",
    "# as a pickle\n",
    "import pickle\n",
    "with open('country_dict.pkl', 'wb') as f:\n",
    "    pickle.dump(country, f)"
   ]
  }
 ],
 "metadata": {
  "kernelspec": {
   "display_name": "Python 3",
   "language": "python",
   "name": "python3"
  },
  "language_info": {
   "codemirror_mode": {
    "name": "ipython",
    "version": 3
   },
   "file_extension": ".py",
   "mimetype": "text/x-python",
   "name": "python",
   "nbconvert_exporter": "python",
   "pygments_lexer": "ipython3",
   "version": "3.11.2"
  }
 },
 "nbformat": 4,
 "nbformat_minor": 2
}
