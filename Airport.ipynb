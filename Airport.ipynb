{
 "cells": [
  {
   "cell_type": "code",
   "execution_count": 1,
   "metadata": {},
   "outputs": [],
   "source": [
    "import pandas as pd\n",
    "import numpy as np\n",
    "import httpx\n",
    "import os\n",
    "from datetime import date, datetime, timedelta\n",
    "import helper.weather as weather\n",
    "import helper.entsoe_wrapper as entsoe"
   ]
  },
  {
   "cell_type": "code",
   "execution_count": 2,
   "metadata": {},
   "outputs": [],
   "source": [
    "datacenter_loc={\"DE\":(50.110924,8.682127),\"FR\":(48.856667,2.351667),\"IE\":(53.35,-6.26),\"IT\":(45.4625,9.1864),\n",
    "                \"NL\":(52.3702,4.8904),\"PL\":(52.2167,21.0333),\"ES\":(40.412,-3.7039),\n",
    "                \"SE\":(59.325,18.05),\"BE\":(50.8466,4.3517),\"AT\":(48.2083,16.3731)}"
   ]
  },
  {
   "cell_type": "code",
   "execution_count": 3,
   "metadata": {},
   "outputs": [],
   "source": [
    "start=pd.Timestamp('2022-01-01', tz='UTC')\n",
    "end=pd.Timestamp('2023-01-01', tz='UTC')"
   ]
  },
  {
   "cell_type": "code",
   "execution_count": 4,
   "metadata": {},
   "outputs": [
    {
     "name": "stderr",
     "output_type": "stream",
     "text": [
      "c:\\Daten\\Foschung\\RiskAware\\IntensityLib\\helper\\weather.py:46: FutureWarning: Downcasting behavior in `replace` is deprecated and will be removed in a future version. To retain the old behavior, explicitly call `result.infer_objects(copy=False)`. To opt-in to the future behavior, set `pd.set_option('future.no_silent_downcasting', True)`\n",
      "  data = pd.read_csv(path, index_col=1).replace(\"M\", np.nan)\n",
      "c:\\Daten\\Foschung\\RiskAware\\IntensityLib\\helper\\weather.py:46: FutureWarning: Downcasting behavior in `replace` is deprecated and will be removed in a future version. To retain the old behavior, explicitly call `result.infer_objects(copy=False)`. To opt-in to the future behavior, set `pd.set_option('future.no_silent_downcasting', True)`\n",
      "  data = pd.read_csv(path, index_col=1).replace(\"M\", np.nan)\n"
     ]
    },
    {
     "data": {
      "text/plain": [
       "valid\n",
       "2022-01-01 00:00:00+00:00     9.908730\n",
       "2022-01-01 01:00:00+00:00     9.909706\n",
       "2022-01-01 02:00:00+00:00     9.909706\n",
       "2022-01-01 03:00:00+00:00     9.909706\n",
       "2022-01-01 04:00:00+00:00     9.909706\n",
       "                               ...    \n",
       "2022-12-31 20:00:00+00:00    10.682783\n",
       "2022-12-31 21:00:00+00:00    10.718314\n",
       "2022-12-31 22:00:00+00:00     9.803628\n",
       "2022-12-31 23:00:00+00:00     8.897416\n",
       "2023-01-01 00:00:00+00:00     9.839428\n",
       "Freq: h, Length: 8761, dtype: float64"
      ]
     },
     "execution_count": 4,
     "metadata": {},
     "output_type": "execute_result"
    }
   ],
   "source": [
    "weather.get_weather_data(datacenter_loc[\"DE\"],start,end)"
   ]
  },
  {
   "cell_type": "code",
   "execution_count": null,
   "metadata": {},
   "outputs": [],
   "source": []
  }
 ],
 "metadata": {
  "kernelspec": {
   "display_name": "Python 3",
   "language": "python",
   "name": "python3"
  },
  "language_info": {
   "codemirror_mode": {
    "name": "ipython",
    "version": 3
   },
   "file_extension": ".py",
   "mimetype": "text/x-python",
   "name": "python",
   "nbconvert_exporter": "python",
   "pygments_lexer": "ipython3",
   "version": "3.11.2"
  }
 },
 "nbformat": 4,
 "nbformat_minor": 2
}
